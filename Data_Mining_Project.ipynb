{
  "nbformat": 4,
  "nbformat_minor": 0,
  "metadata": {
    "colab": {
      "name": "Data Mining Project.ipynb",
      "provenance": []
    },
    "kernelspec": {
      "name": "python3",
      "display_name": "Python 3"
    }
  },
  "cells": [
    {
      "cell_type": "markdown",
      "metadata": {
        "id": "MpHwxEjhRcuq",
        "colab_type": "text"
      },
      "source": [
        "# <font color='Blue'>Project Information:</font>\n",
        "\n",
        "This project comprises of applying various Data Science techniques. The data is collected through web scraping, which is mounted in the google drive and used further. The data is then downloaded from drive and uploaded on GitHub profile ritwiksinha53. The data is then loaded here. The project proceeds with Exploratory Data Analysis on the loaded data. The end of the project is building a statistical model."
      ]
    },
    {
      "cell_type": "markdown",
      "metadata": {
        "id": "vimL96d5XiDZ",
        "colab_type": "text"
      },
      "source": [
        "# <font color='Blue'>About Data:</font>\n",
        "\n",
        "The data collected is about the performance of Indian Men's Cricket team in the second decade of twenty first century (2010-2019) in One Day International matches."
      ]
    },
    {
      "cell_type": "markdown",
      "metadata": {
        "id": "zzxNK1KJT6O7",
        "colab_type": "text"
      },
      "source": [
        "#  <font color='green'> Importing necessary modules </font>"
      ]
    },
    {
      "cell_type": "code",
      "metadata": {
        "id": "Knx_lbsqQ7nh",
        "colab_type": "code",
        "colab": {
          "base_uri": "https://localhost:8080/",
          "height": 210
        },
        "outputId": "6ccb5a36-943e-442b-ff49-0846811d7f48"
      },
      "source": [
        "import urllib.request as req\n",
        "from bs4 import BeautifulSoup as soup\n",
        "import pandas as pd\n",
        "import numpy as np\n",
        "import matplotlib.pyplot as plt\n",
        "%matplotlib inline\n",
        "import seaborn as sns\n",
        "import plotly.express as px\n",
        "from google.colab import drive\n",
        "from sklearn.linear_model import LogisticRegression\n",
        "from imblearn.over_sampling import SMOTE\n",
        "from imblearn.over_sampling import RandomOverSampler\n",
        "from imblearn.under_sampling import RandomUnderSampler\n",
        "from collections import Counter\n",
        "from sklearn.ensemble import RandomForestClassifier\n",
        "from sklearn.tree import DecisionTreeClassifier\n",
        "from sklearn.ensemble import AdaBoostClassifier\n",
        "from sklearn.ensemble import GradientBoostingClassifier\n",
        "from sklearn.ensemble import BaggingClassifier\n",
        "from xgboost import XGBClassifier\n",
        "from sklearn.model_selection import train_test_split"
      ],
      "execution_count": null,
      "outputs": [
        {
          "output_type": "stream",
          "text": [
            "/usr/local/lib/python3.6/dist-packages/statsmodels/tools/_testing.py:19: FutureWarning: pandas.util.testing is deprecated. Use the functions in the public API at pandas.testing instead.\n",
            "  import pandas.util.testing as tm\n",
            "/usr/local/lib/python3.6/dist-packages/sklearn/externals/six.py:31: FutureWarning:\n",
            "\n",
            "The module is deprecated in version 0.21 and will be removed in version 0.23 since we've dropped support for Python 2.7. Please rely on the official version of six (https://pypi.org/project/six/).\n",
            "\n",
            "/usr/local/lib/python3.6/dist-packages/sklearn/utils/deprecation.py:144: FutureWarning:\n",
            "\n",
            "The sklearn.neighbors.base module is  deprecated in version 0.22 and will be removed in version 0.24. The corresponding classes / functions should instead be imported from sklearn.neighbors. Anything that cannot be imported from sklearn.neighbors is now part of the private API.\n",
            "\n"
          ],
          "name": "stderr"
        }
      ]
    },
    {
      "cell_type": "markdown",
      "metadata": {
        "id": "7QyihTFJUVCQ",
        "colab_type": "text"
      },
      "source": [
        "#  <font color='green'>Scraping the data</font>"
      ]
    },
    {
      "cell_type": "code",
      "metadata": {
        "id": "omlB4NVWUvvQ",
        "colab_type": "code",
        "colab": {}
      },
      "source": [
        "global headers\n",
        "headers = [\"team1\", \"team2\", \"winner\", \"margin\", \"ground\", \"match_date\"]\n",
        "\n",
        "def get_page(link):\n",
        "    ''' Returns html page that you get using \"inspect element\" '''\n",
        "    response = req.urlopen(link)\n",
        "    output = response.read()\n",
        "    response.close()\n",
        "    output_soup = soup(output, \"html.parser\")\n",
        "    return output_soup\n",
        "\n",
        "def text(list_of_elements):\n",
        "    ''' Returns the Series of data collected '''\n",
        "    data = [list_of_elements[column].text for column in range(len(list_of_elements)) if column < 6]\n",
        "    return pd.Series(data, index = headers)\n",
        "\n",
        "cricket_data = pd.DataFrame(data = {}, columns = headers)\n",
        "\n",
        "for year in range(2010, 2020):\n",
        "    url = \"https://stats.espncricinfo.com/ci/engine/records/team/match_results.html?class=2;id=\" + str(year) + \";team=6;type=year\"\n",
        "    output_soup = get_page(url)\n",
        "    cricket_details = output_soup.findAll(\"tbody\")[0].findAll(\"tr\")\n",
        "    for details in cricket_details:\n",
        "        detail = details.findAll(\"td\")\n",
        "        cricket_row = text(detail)\n",
        "        cricket_data = cricket_data.append(cricket_row, ignore_index = True)"
      ],
      "execution_count": null,
      "outputs": []
    },
    {
      "cell_type": "markdown",
      "metadata": {
        "id": "3ziPCqXwU9w9",
        "colab_type": "text"
      },
      "source": [
        "#  <font color='green'>Mounting the data in Google Drive</font>"
      ]
    },
    {
      "cell_type": "code",
      "metadata": {
        "id": "v1QcghA6VEog",
        "colab_type": "code",
        "colab": {}
      },
      "source": [
        "drive.mount('/drive', force_remount=True)\n",
        "cricket_data.to_csv('/drive/My Drive/Scrapped CSV files/India_ODI_Records.csv')"
      ],
      "execution_count": null,
      "outputs": []
    },
    {
      "cell_type": "markdown",
      "metadata": {
        "id": "W1Kjy9L-VIzC",
        "colab_type": "text"
      },
      "source": [
        "#  <font color='green'>Loading data and performing Exploratory Data Analysis</font>"
      ]
    },
    {
      "cell_type": "code",
      "metadata": {
        "id": "4ahqsHKLVbl8",
        "colab_type": "code",
        "colab": {}
      },
      "source": [
        "data = 'https://raw.githubusercontent.com/ritwiksinha53/cricket-analysis/master/India_ODI_Records.csv'\n",
        "india_record = pd.read_csv(data, sep = ',')"
      ],
      "execution_count": null,
      "outputs": []
    },
    {
      "cell_type": "code",
      "metadata": {
        "id": "FQe2tb9SVhxO",
        "colab_type": "code",
        "colab": {
          "base_uri": "https://localhost:8080/",
          "height": 202
        },
        "outputId": "dcff73e5-7e35-4d8e-d887-085a25be3503"
      },
      "source": [
        "india_record.head()"
      ],
      "execution_count": null,
      "outputs": [
        {
          "output_type": "execute_result",
          "data": {
            "text/html": [
              "<div>\n",
              "<style scoped>\n",
              "    .dataframe tbody tr th:only-of-type {\n",
              "        vertical-align: middle;\n",
              "    }\n",
              "\n",
              "    .dataframe tbody tr th {\n",
              "        vertical-align: top;\n",
              "    }\n",
              "\n",
              "    .dataframe thead th {\n",
              "        text-align: right;\n",
              "    }\n",
              "</style>\n",
              "<table border=\"1\" class=\"dataframe\">\n",
              "  <thead>\n",
              "    <tr style=\"text-align: right;\">\n",
              "      <th></th>\n",
              "      <th>team1</th>\n",
              "      <th>team2</th>\n",
              "      <th>winner</th>\n",
              "      <th>margin</th>\n",
              "      <th>ground</th>\n",
              "      <th>match_date</th>\n",
              "      <th>year</th>\n",
              "    </tr>\n",
              "  </thead>\n",
              "  <tbody>\n",
              "    <tr>\n",
              "      <th>0</th>\n",
              "      <td>India</td>\n",
              "      <td>Sri Lanka</td>\n",
              "      <td>Sri Lanka</td>\n",
              "      <td>5 wickets</td>\n",
              "      <td>Dhaka</td>\n",
              "      <td>Jan 5, 2010</td>\n",
              "      <td>2010</td>\n",
              "    </tr>\n",
              "    <tr>\n",
              "      <th>1</th>\n",
              "      <td>Bangladesh</td>\n",
              "      <td>India</td>\n",
              "      <td>India</td>\n",
              "      <td>6 wickets</td>\n",
              "      <td>Dhaka</td>\n",
              "      <td>Jan 7, 2010</td>\n",
              "      <td>2010</td>\n",
              "    </tr>\n",
              "    <tr>\n",
              "      <th>2</th>\n",
              "      <td>India</td>\n",
              "      <td>Sri Lanka</td>\n",
              "      <td>India</td>\n",
              "      <td>8 wickets</td>\n",
              "      <td>Dhaka</td>\n",
              "      <td>Jan 10, 2010</td>\n",
              "      <td>2010</td>\n",
              "    </tr>\n",
              "    <tr>\n",
              "      <th>3</th>\n",
              "      <td>Bangladesh</td>\n",
              "      <td>India</td>\n",
              "      <td>India</td>\n",
              "      <td>6 wickets</td>\n",
              "      <td>Dhaka</td>\n",
              "      <td>Jan 11, 2010</td>\n",
              "      <td>2010</td>\n",
              "    </tr>\n",
              "    <tr>\n",
              "      <th>4</th>\n",
              "      <td>India</td>\n",
              "      <td>Sri Lanka</td>\n",
              "      <td>Sri Lanka</td>\n",
              "      <td>4 wickets</td>\n",
              "      <td>Dhaka</td>\n",
              "      <td>Jan 13, 2010</td>\n",
              "      <td>2010</td>\n",
              "    </tr>\n",
              "  </tbody>\n",
              "</table>\n",
              "</div>"
            ],
            "text/plain": [
              "        team1      team2     winner     margin ground    match_date  year\n",
              "0       India  Sri Lanka  Sri Lanka  5 wickets  Dhaka   Jan 5, 2010  2010\n",
              "1  Bangladesh      India      India  6 wickets  Dhaka   Jan 7, 2010  2010\n",
              "2       India  Sri Lanka      India  8 wickets  Dhaka  Jan 10, 2010  2010\n",
              "3  Bangladesh      India      India  6 wickets  Dhaka  Jan 11, 2010  2010\n",
              "4       India  Sri Lanka  Sri Lanka  4 wickets  Dhaka  Jan 13, 2010  2010"
            ]
          },
          "metadata": {
            "tags": []
          },
          "execution_count": 5
        }
      ]
    },
    {
      "cell_type": "code",
      "metadata": {
        "id": "82xGbrfUVlHI",
        "colab_type": "code",
        "colab": {}
      },
      "source": [
        "## Adding a new column named 'result' which stores the data whether India has won the match or not in the dataframe\n",
        "india_record['result'] = ['Won' if (x == 'India' or x == 'tied') else 'Lost' for x in india_record['winner']]"
      ],
      "execution_count": null,
      "outputs": []
    },
    {
      "cell_type": "code",
      "metadata": {
        "id": "y66-AhniVxvZ",
        "colab_type": "code",
        "colab": {
          "base_uri": "https://localhost:8080/",
          "height": 202
        },
        "outputId": "69076bd7-3d32-41c2-abd5-6dbd999b0de4"
      },
      "source": [
        "india_record.head()"
      ],
      "execution_count": null,
      "outputs": [
        {
          "output_type": "execute_result",
          "data": {
            "text/html": [
              "<div>\n",
              "<style scoped>\n",
              "    .dataframe tbody tr th:only-of-type {\n",
              "        vertical-align: middle;\n",
              "    }\n",
              "\n",
              "    .dataframe tbody tr th {\n",
              "        vertical-align: top;\n",
              "    }\n",
              "\n",
              "    .dataframe thead th {\n",
              "        text-align: right;\n",
              "    }\n",
              "</style>\n",
              "<table border=\"1\" class=\"dataframe\">\n",
              "  <thead>\n",
              "    <tr style=\"text-align: right;\">\n",
              "      <th></th>\n",
              "      <th>team1</th>\n",
              "      <th>team2</th>\n",
              "      <th>winner</th>\n",
              "      <th>margin</th>\n",
              "      <th>ground</th>\n",
              "      <th>match_date</th>\n",
              "      <th>year</th>\n",
              "      <th>result</th>\n",
              "    </tr>\n",
              "  </thead>\n",
              "  <tbody>\n",
              "    <tr>\n",
              "      <th>0</th>\n",
              "      <td>India</td>\n",
              "      <td>Sri Lanka</td>\n",
              "      <td>Sri Lanka</td>\n",
              "      <td>5 wickets</td>\n",
              "      <td>Dhaka</td>\n",
              "      <td>Jan 5, 2010</td>\n",
              "      <td>2010</td>\n",
              "      <td>Lost</td>\n",
              "    </tr>\n",
              "    <tr>\n",
              "      <th>1</th>\n",
              "      <td>Bangladesh</td>\n",
              "      <td>India</td>\n",
              "      <td>India</td>\n",
              "      <td>6 wickets</td>\n",
              "      <td>Dhaka</td>\n",
              "      <td>Jan 7, 2010</td>\n",
              "      <td>2010</td>\n",
              "      <td>Won</td>\n",
              "    </tr>\n",
              "    <tr>\n",
              "      <th>2</th>\n",
              "      <td>India</td>\n",
              "      <td>Sri Lanka</td>\n",
              "      <td>India</td>\n",
              "      <td>8 wickets</td>\n",
              "      <td>Dhaka</td>\n",
              "      <td>Jan 10, 2010</td>\n",
              "      <td>2010</td>\n",
              "      <td>Won</td>\n",
              "    </tr>\n",
              "    <tr>\n",
              "      <th>3</th>\n",
              "      <td>Bangladesh</td>\n",
              "      <td>India</td>\n",
              "      <td>India</td>\n",
              "      <td>6 wickets</td>\n",
              "      <td>Dhaka</td>\n",
              "      <td>Jan 11, 2010</td>\n",
              "      <td>2010</td>\n",
              "      <td>Won</td>\n",
              "    </tr>\n",
              "    <tr>\n",
              "      <th>4</th>\n",
              "      <td>India</td>\n",
              "      <td>Sri Lanka</td>\n",
              "      <td>Sri Lanka</td>\n",
              "      <td>4 wickets</td>\n",
              "      <td>Dhaka</td>\n",
              "      <td>Jan 13, 2010</td>\n",
              "      <td>2010</td>\n",
              "      <td>Lost</td>\n",
              "    </tr>\n",
              "  </tbody>\n",
              "</table>\n",
              "</div>"
            ],
            "text/plain": [
              "        team1      team2     winner  ...    match_date  year result\n",
              "0       India  Sri Lanka  Sri Lanka  ...   Jan 5, 2010  2010   Lost\n",
              "1  Bangladesh      India      India  ...   Jan 7, 2010  2010    Won\n",
              "2       India  Sri Lanka      India  ...  Jan 10, 2010  2010    Won\n",
              "3  Bangladesh      India      India  ...  Jan 11, 2010  2010    Won\n",
              "4       India  Sri Lanka  Sri Lanka  ...  Jan 13, 2010  2010   Lost\n",
              "\n",
              "[5 rows x 8 columns]"
            ]
          },
          "metadata": {
            "tags": []
          },
          "execution_count": 7
        }
      ]
    },
    {
      "cell_type": "code",
      "metadata": {
        "id": "WOdyOZgQV4ig",
        "colab_type": "code",
        "colab": {
          "base_uri": "https://localhost:8080/",
          "height": 69
        },
        "outputId": "5b833d48-bed1-474e-ce37-6be2f61ab94e"
      },
      "source": [
        "india_record['result'].value_counts()"
      ],
      "execution_count": null,
      "outputs": [
        {
          "output_type": "execute_result",
          "data": {
            "text/plain": [
              "Won     163\n",
              "Lost     86\n",
              "Name: result, dtype: int64"
            ]
          },
          "metadata": {
            "tags": []
          },
          "execution_count": 8
        }
      ]
    },
    {
      "cell_type": "code",
      "metadata": {
        "id": "kBop3hPHV7ym",
        "colab_type": "code",
        "colab": {
          "base_uri": "https://localhost:8080/",
          "height": 296
        },
        "outputId": "3b8995b5-e0b9-4c4d-fbf5-12b58dcd2040"
      },
      "source": [
        "sns.countplot(india_record['result'])"
      ],
      "execution_count": null,
      "outputs": [
        {
          "output_type": "execute_result",
          "data": {
            "text/plain": [
              "<matplotlib.axes._subplots.AxesSubplot at 0x7f51080390b8>"
            ]
          },
          "metadata": {
            "tags": []
          },
          "execution_count": 9
        },
        {
          "output_type": "display_data",
          "data": {
            "image/png": "[encoded data removed]",
            "text/plain": [
              "<Figure size 432x288 with 1 Axes>"
            ]
          },
          "metadata": {
            "tags": [],
            "needs_background": "light"
          }
        }
      ]
    },
    {
      "cell_type": "code",
      "metadata": {
        "id": "ZXOHeDOuWArM",
        "colab_type": "code",
        "colab": {
          "base_uri": "https://localhost:8080/",
          "height": 542
        },
        "outputId": "8758b83e-9329-482b-fef5-51ae349d83f3"
      },
      "source": [
        "fig = px.box(india_record, x=\"result\", y=\"ground\", points=\"all\")\n",
        "fig.show()\n",
        "\n",
        "## THIS PLOT SHOWS THE VISUAL REPRESENTAION OF TOTAL NUMBER OF MATHCES INDIA HAS EITHER WON OR LOST AT A PARTICULAR GROUND"
      ],
      "execution_count": null,
      "outputs": [
        {
          "output_type": "display_data",
          "data": {
            "text/html": [
              "<html>\n",
              "<head><meta charset=\"utf-8\" /></head>\n",
              "<body>\n",
              "    <div>\n",
              "            <script src=\"https://cdnjs.cloudflare.com/ajax/libs/mathjax/2.7.5/MathJax.js?config=TeX-AMS-MML_SVG\"></script><script type=\"text/javascript\">if (window.MathJax) {MathJax.Hub.Config({SVG: {font: \"STIX-Web\"}});}</script>\n",
              "                <script type=\"text/javascript\">window.PlotlyConfig = {MathJaxConfig: 'local'};</script>\n",
              "        <script src=\"https://cdn.plot.ly/plotly-latest.min.js\"></script>    \n",
              "            <div id=\"449ef043-49f0-4df3-b897-1eb6cfa12335\" class=\"plotly-graph-div\" style=\"height:525px; width:100%;\"></div>\n",
              "            <script type=\"text/javascript\">\n",
              "                \n",
              "                    window.PLOTLYENV=window.PLOTLYENV || {};\n",
              "                    \n",
              "                if (document.getElementById(\"449ef043-49f0-4df3-b897-1eb6cfa12335\")) {\n",
              "                    Plotly.newPlot(\n",
              "                        '449ef043-49f0-4df3-b897-1eb6cfa12335',\n",
              "                        [{\"alignmentgroup\": \"True\", \"boxpoints\": \"all\", \"hoverlabel\": {\"namelength\": 0}, \"hovertemplate\": \"result=%{x}<br>ground=%{y}\", \"legendgroup\": \"\", \"marker\": {\"color\": \"#636efa\"}, \"name\": \"\", \"notched\": false, \"offsetgroup\": \"\", \"orientation\": \"v\", \"showlegend\": false, \"type\": \"box\", \"x\": [\"Lost\", \"Won\", \"Won\", \"Won\", \"Lost\", \"Won\", \"Won\", \"Lost\", \"Lost\", \"Won\", \"Lost\", \"Lost\", \"Won\", \"Won\", \"Lost\", \"Won\", \"Lost\", \"Won\", \"Lost\", \"Won\", \"Lost\", \"Won\", \"Won\", \"Won\", \"Won\", \"Won\", \"Won\", \"Lost\", \"Won\", \"Won\", \"Lost\", \"Lost\", \"Won\", \"Won\", \"Won\", \"Won\", \"Lost\", \"Won\", \"Won\", \"Won\", \"Won\", \"Won\", \"Won\", \"Won\", \"Lost\", \"Lost\", \"Lost\", \"Lost\", \"Lost\", \"Won\", \"Lost\", \"Won\", \"Won\", \"Won\", \"Won\", \"Won\", \"Won\", \"Won\", \"Lost\", \"Won\", \"Won\", \"Lost\", \"Won\", \"Won\", \"Won\", \"Lost\", \"Lost\", \"Lost\", \"Won\", \"Won\", \"Lost\", \"Won\", \"Won\", \"Lost\", \"Won\", \"Won\", \"Won\", \"Lost\", \"Lost\", \"Won\", \"Lost\", \"Won\", \"Won\", \"Won\", \"Lost\", \"Won\", \"Won\", \"Won\", \"Won\", \"Won\", \"Lost\", \"Lost\", \"Won\", \"Won\", \"Won\", \"Won\", \"Won\", \"Won\", \"Won\", \"Won\", \"Lost\", \"Won\", \"Lost\", \"Lost\", \"Won\", \"Won\", \"Won\", \"Lost\", \"Won\", \"Lost\", \"Lost\", \"Lost\", \"Lost\", \"Lost\", \"Won\", \"Lost\", \"Lost\", \"Won\", \"Lost\", \"Lost\", \"Won\", \"Won\", \"Won\", \"Lost\", \"Won\", \"Won\", \"Won\", \"Lost\", \"Lost\", \"Won\", \"Won\", \"Won\", \"Won\", \"Won\", \"Won\", \"Won\", \"Lost\", \"Lost\", \"Lost\", \"Lost\", \"Won\", \"Won\", \"Won\", \"Won\", \"Won\", \"Won\", \"Won\", \"Lost\", \"Lost\", \"Lost\", \"Won\", \"Won\", \"Won\", \"Won\", \"Lost\", \"Won\", \"Lost\", \"Won\", \"Lost\", \"Lost\", \"Lost\", \"Lost\", \"Lost\", \"Won\", \"Won\", \"Won\", \"Won\", \"Won\", \"Lost\", \"Won\", \"Lost\", \"Won\", \"Won\", \"Won\", \"Lost\", \"Won\", \"Lost\", \"Won\", \"Won\", \"Lost\", \"Lost\", \"Won\", \"Won\", \"Lost\", \"Won\", \"Won\", \"Won\", \"Won\", \"Won\", \"Won\", \"Won\", \"Won\", \"Won\", \"Lost\", \"Won\", \"Lost\", \"Won\", \"Won\", \"Lost\", \"Won\", \"Won\", \"Won\", \"Won\", \"Won\", \"Lost\", \"Won\", \"Won\", \"Won\", \"Lost\", \"Lost\", \"Won\", \"Won\", \"Won\", \"Won\", \"Won\", \"Won\", \"Won\", \"Won\", \"Lost\", \"Won\", \"Won\", \"Lost\", \"Won\", \"Won\", \"Won\", \"Won\", \"Won\", \"Lost\", \"Won\", \"Won\", \"Won\", \"Lost\", \"Lost\", \"Lost\", \"Won\", \"Won\", \"Won\", \"Won\", \"Won\", \"Lost\", \"Won\", \"Won\", \"Lost\", \"Lost\", \"Won\", \"Won\", \"Lost\", \"Won\", \"Won\"], \"x0\": \" \", \"xaxis\": \"x\", \"y\": [\"Dhaka\", \"Dhaka\", \"Dhaka\", \"Dhaka\", \"Dhaka\", \"Jaipur\", \"Gwalior\", \"Ahmedabad\", \"Bulawayo\", \"Bulawayo\", \"Harare\", \"Harare\", \"Dambulla\", \"Dambulla\", \"Dambulla\", \"Dambulla\", \"Dambulla\", \"Dambulla\", \"Dambulla\", \"Dambulla\", \"Dambulla\", \"Visakhapatnam\", \"Guwahati\", \"Jaipur\", \"Vadodara\", \"Bengaluru\", \"Chennai\", \"Durban\", \"Johannesburg\", \"Cape Town\", \"Port Elizabeth\", \"Centurion\", \"Dhaka\", \"Bengaluru\", \"Bengaluru\", \"Delhi\", \"Nagpur\", \"Chennai\", \"Ahmedabad\", \"Mohali\", \"Mumbai\", \"Port of Spain\", \"Port of Spain\", \"North Sound\", \"North Sound\", \"Kingston\", \"Chester-le-Street\", \"Southampton\", \"The Oval\", \"Lord's\", \"Cardiff\", \"Hyderabad (Deccan)\", \"Delhi\", \"Mohali\", \"Mumbai\", \"Kolkata\", \"Cuttack\", \"Visakhapatnam\", \"Ahmedabad\", \"Indore\", \"Chennai\", \"Melbourne\", \"Perth\", \"Adelaide\", \"Adelaide\", \"Brisbane\", \"Brisbane\", \"Sydney\", \"Hobart\", \"Dhaka\", \"Dhaka\", \"Dhaka\", \"Hambantota\", \"Hambantota\", \"Colombo (RPS)\", \"Colombo (RPS)\", \"Pallekele\", \"Chennai\", \"Kolkata\", \"Delhi\", \"Rajkot\", \"Kochi\", \"Ranchi\", \"Mohali\", \"Dharamsala\", \"Cardiff\", \"The Oval\", \"Birmingham\", \"Cardiff\", \"Birmingham\", \"Kingston\", \"Kingston\", \"Port of Spain\", \"Port of Spain\", \"Port of Spain\", \"Harare\", \"Harare\", \"Harare\", \"Bulawayo\", \"Bulawayo\", \"Pune\", \"Jaipur\", \"Mohali\", \"Ranchi\", \"Nagpur\", \"Bengaluru\", \"Kochi\", \"Visakhapatnam\", \"Kanpur\", \"Johannesburg\", \"Durban\", \"Centurion\", \"Napier\", \"Hamilton\", \"Auckland\", \"Hamilton\", \"Wellington\", \"Fatullah\", \"Fatullah\", \"Dhaka\", \"Dhaka\", \"Dhaka\", \"Dhaka\", \"Dhaka\", \"Cardiff\", \"Nottingham\", \"Birmingham\", \"Leeds\", \"Kochi\", \"Delhi\", \"Dharamsala\", \"Cuttack\", \"Ahmedabad\", \"Hyderabad (Deccan)\", \"Kolkata\", \"Ranchi\", \"Melbourne\", \"Brisbane\", \"Sydney\", \"Perth\", \"Adelaide\", \"Melbourne\", \"Perth\", \"Perth\", \"Hamilton\", \"Auckland\", \"Melbourne\", \"Sydney\", \"Dhaka\", \"Dhaka\", \"Dhaka\", \"Harare\", \"Harare\", \"Harare\", \"Kanpur\", \"Indore\", \"Rajkot\", \"Chennai\", \"Mumbai\", \"Perth\", \"Brisbane\", \"Melbourne\", \"Canberra\", \"Sydney\", \"Harare\", \"Harare\", \"Harare\", \"Dharamsala\", \"Delhi\", \"Mohali\", \"Ranchi\", \"Visakhapatnam\", \"Pune\", \"Cuttack\", \"Kolkata\", \"Birmingham\", \"The Oval\", \"The Oval\", \"Birmingham\", \"The Oval\", \"Port of Spain\", \"Port of Spain\", \"North Sound\", \"North Sound\", \"Kingston\", \"Dambulla\", \"Pallekele\", \"Pallekele\", \"Colombo (RPS)\", \"Colombo (RPS)\", \"Chennai\", \"Kolkata\", \"Indore\", \"Bengaluru\", \"Nagpur\", \"Mumbai\", \"Pune\", \"Kanpur\", \"Dharamsala\", \"Mohali\", \"Visakhapatnam\", \"Durban\", \"Centurion\", \"Cape Town\", \"Johannesburg\", \"Port Elizabeth\", \"Centurion\", \"Nottingham\", \"Lord's\", \"Leeds\", \"Dubai (DSC)\", \"Dubai (DSC)\", \"Dubai (DSC)\", \"Dubai (DSC)\", \"Dubai (DSC)\", \"Dubai (DSC)\", \"Guwahati\", \"Visakhapatnam\", \"Pune\", \"Mumbai (BS)\", \"Thiruvananthapuram\", \"Sydney\", \"Adelaide\", \"Melbourne\", \"Napier\", \"Mount Maunganui\", \"Mount Maunganui\", \"Hamilton\", \"Wellington\", \"Hyderabad (Deccan)\", \"Nagpur\", \"Ranchi\", \"Mohali\", \"Delhi\", \"Southampton\", \"The Oval\", \"Manchester\", \"Southampton\", \"Manchester\", \"Birmingham\", \"Birmingham\", \"Leeds\", \"Manchester\", \"Providence\", \"Port of Spain\", \"Port of Spain\", \"Chennai\", \"Visakhapatnam\", \"Cuttack\"], \"y0\": \" \", \"yaxis\": \"y\"}],\n",
              "                        {\"boxmode\": \"group\", \"legend\": {\"tracegroupgap\": 0}, \"margin\": {\"t\": 60}, \"template\": {\"data\": {\"bar\": [{\"error_x\": {\"color\": \"#2a3f5f\"}, \"error_y\": {\"color\": \"#2a3f5f\"}, \"marker\": {\"line\": {\"color\": \"#E5ECF6\", \"width\": 0.5}}, \"type\": \"bar\"}], \"barpolar\": [{\"marker\": {\"line\": {\"color\": \"#E5ECF6\", \"width\": 0.5}}, \"type\": \"barpolar\"}], \"carpet\": [{\"aaxis\": {\"endlinecolor\": \"#2a3f5f\", \"gridcolor\": \"white\", \"linecolor\": \"white\", \"minorgridcolor\": \"white\", \"startlinecolor\": \"#2a3f5f\"}, \"baxis\": {\"endlinecolor\": \"#2a3f5f\", \"gridcolor\": \"white\", \"linecolor\": \"white\", \"minorgridcolor\": \"white\", \"startlinecolor\": \"#2a3f5f\"}, \"type\": \"carpet\"}], \"choropleth\": [{\"colorbar\": {\"outlinewidth\": 0, \"ticks\": \"\"}, \"type\": \"choropleth\"}], \"contour\": [{\"colorbar\": {\"outlinewidth\": 0, \"ticks\": \"\"}, \"colorscale\": [[0.0, \"#0d0887\"], [0.1111111111111111, \"#46039f\"], [0.2222222222222222, \"#7201a8\"], [0.3333333333333333, \"#9c179e\"], [0.4444444444444444, \"#bd3786\"], [0.5555555555555556, \"#d8576b\"], [0.6666666666666666, \"#ed7953\"], [0.7777777777777778, \"#fb9f3a\"], [0.8888888888888888, \"#fdca26\"], [1.0, \"#f0f921\"]], \"type\": \"contour\"}], \"contourcarpet\": [{\"colorbar\": {\"outlinewidth\": 0, \"ticks\": \"\"}, \"type\": \"contourcarpet\"}], \"heatmap\": [{\"colorbar\": {\"outlinewidth\": 0, \"ticks\": \"\"}, \"colorscale\": [[0.0, \"#0d0887\"], [0.1111111111111111, \"#46039f\"], [0.2222222222222222, \"#7201a8\"], [0.3333333333333333, \"#9c179e\"], [0.4444444444444444, \"#bd3786\"], [0.5555555555555556, \"#d8576b\"], [0.6666666666666666, \"#ed7953\"], [0.7777777777777778, \"#fb9f3a\"], [0.8888888888888888, \"#fdca26\"], [1.0, \"#f0f921\"]], \"type\": \"heatmap\"}], \"heatmapgl\": [{\"colorbar\": {\"outlinewidth\": 0, \"ticks\": \"\"}, \"colorscale\": [[0.0, \"#0d0887\"], [0.1111111111111111, \"#46039f\"], [0.2222222222222222, \"#7201a8\"], [0.3333333333333333, \"#9c179e\"], [0.4444444444444444, \"#bd3786\"], [0.5555555555555556, \"#d8576b\"], [0.6666666666666666, \"#ed7953\"], [0.7777777777777778, \"#fb9f3a\"], [0.8888888888888888, \"#fdca26\"], [1.0, \"#f0f921\"]], \"type\": \"heatmapgl\"}], \"histogram\": [{\"marker\": {\"colorbar\": {\"outlinewidth\": 0, \"ticks\": \"\"}}, \"type\": \"histogram\"}], \"histogram2d\": [{\"colorbar\": {\"outlinewidth\": 0, \"ticks\": \"\"}, \"colorscale\": [[0.0, \"#0d0887\"], [0.1111111111111111, \"#46039f\"], [0.2222222222222222, \"#7201a8\"], [0.3333333333333333, \"#9c179e\"], [0.4444444444444444, \"#bd3786\"], [0.5555555555555556, \"#d8576b\"], [0.6666666666666666, \"#ed7953\"], [0.7777777777777778, \"#fb9f3a\"], [0.8888888888888888, \"#fdca26\"], [1.0, \"#f0f921\"]], \"type\": \"histogram2d\"}], \"histogram2dcontour\": [{\"colorbar\": {\"outlinewidth\": 0, \"ticks\": \"\"}, \"colorscale\": [[0.0, \"#0d0887\"], [0.1111111111111111, \"#46039f\"], [0.2222222222222222, \"#7201a8\"], [0.3333333333333333, \"#9c179e\"], [0.4444444444444444, \"#bd3786\"], [0.5555555555555556, \"#d8576b\"], [0.6666666666666666, \"#ed7953\"], [0.7777777777777778, \"#fb9f3a\"], [0.8888888888888888, \"#fdca26\"], [1.0, \"#f0f921\"]], \"type\": \"histogram2dcontour\"}], \"mesh3d\": [{\"colorbar\": {\"outlinewidth\": 0, \"ticks\": \"\"}, \"type\": \"mesh3d\"}], \"parcoords\": [{\"line\": {\"colorbar\": {\"outlinewidth\": 0, \"ticks\": \"\"}}, \"type\": \"parcoords\"}], \"pie\": [{\"automargin\": true, \"type\": \"pie\"}], \"scatter\": [{\"marker\": {\"colorbar\": {\"outlinewidth\": 0, \"ticks\": \"\"}}, \"type\": \"scatter\"}], \"scatter3d\": [{\"line\": {\"colorbar\": {\"outlinewidth\": 0, \"ticks\": \"\"}}, \"marker\": {\"colorbar\": {\"outlinewidth\": 0, \"ticks\": \"\"}}, \"type\": \"scatter3d\"}], \"scattercarpet\": [{\"marker\": {\"colorbar\": {\"outlinewidth\": 0, \"ticks\": \"\"}}, \"type\": \"scattercarpet\"}], \"scattergeo\": [{\"marker\": {\"colorbar\": {\"outlinewidth\": 0, \"ticks\": \"\"}}, \"type\": \"scattergeo\"}], \"scattergl\": [{\"marker\": {\"colorbar\": {\"outlinewidth\": 0, \"ticks\": \"\"}}, \"type\": \"scattergl\"}], \"scattermapbox\": [{\"marker\": {\"colorbar\": {\"outlinewidth\": 0, \"ticks\": \"\"}}, \"type\": \"scattermapbox\"}], \"scatterpolar\": [{\"marker\": {\"colorbar\": {\"outlinewidth\": 0, \"ticks\": \"\"}}, \"type\": \"scatterpolar\"}], \"scatterpolargl\": [{\"marker\": {\"colorbar\": {\"outlinewidth\": 0, \"ticks\": \"\"}}, \"type\": \"scatterpolargl\"}], \"scatterternary\": [{\"marker\": {\"colorbar\": {\"outlinewidth\": 0, \"ticks\": \"\"}}, \"type\": \"scatterternary\"}], \"surface\": [{\"colorbar\": {\"outlinewidth\": 0, \"ticks\": \"\"}, \"colorscale\": [[0.0, \"#0d0887\"], [0.1111111111111111, \"#46039f\"], [0.2222222222222222, \"#7201a8\"], [0.3333333333333333, \"#9c179e\"], [0.4444444444444444, \"#bd3786\"], [0.5555555555555556, \"#d8576b\"], [0.6666666666666666, \"#ed7953\"], [0.7777777777777778, \"#fb9f3a\"], [0.8888888888888888, \"#fdca26\"], [1.0, \"#f0f921\"]], \"type\": \"surface\"}], \"table\": [{\"cells\": {\"fill\": {\"color\": \"#EBF0F8\"}, \"line\": {\"color\": \"white\"}}, \"header\": {\"fill\": {\"color\": \"#C8D4E3\"}, \"line\": {\"color\": \"white\"}}, \"type\": \"table\"}]}, \"layout\": {\"annotationdefaults\": {\"arrowcolor\": \"#2a3f5f\", \"arrowhead\": 0, \"arrowwidth\": 1}, \"coloraxis\": {\"colorbar\": {\"outlinewidth\": 0, \"ticks\": \"\"}}, \"colorscale\": {\"diverging\": [[0, \"#8e0152\"], [0.1, \"#c51b7d\"], [0.2, \"#de77ae\"], [0.3, \"#f1b6da\"], [0.4, \"#fde0ef\"], [0.5, \"#f7f7f7\"], [0.6, \"#e6f5d0\"], [0.7, \"#b8e186\"], [0.8, \"#7fbc41\"], [0.9, \"#4d9221\"], [1, \"#276419\"]], \"sequential\": [[0.0, \"#0d0887\"], [0.1111111111111111, \"#46039f\"], [0.2222222222222222, \"#7201a8\"], [0.3333333333333333, \"#9c179e\"], [0.4444444444444444, \"#bd3786\"], [0.5555555555555556, \"#d8576b\"], [0.6666666666666666, \"#ed7953\"], [0.7777777777777778, \"#fb9f3a\"], [0.8888888888888888, \"#fdca26\"], [1.0, \"#f0f921\"]], \"sequentialminus\": [[0.0, \"#0d0887\"], [0.1111111111111111, \"#46039f\"], [0.2222222222222222, \"#7201a8\"], [0.3333333333333333, \"#9c179e\"], [0.4444444444444444, \"#bd3786\"], [0.5555555555555556, \"#d8576b\"], [0.6666666666666666, \"#ed7953\"], [0.7777777777777778, \"#fb9f3a\"], [0.8888888888888888, \"#fdca26\"], [1.0, \"#f0f921\"]]}, \"colorway\": [\"#636efa\", \"#EF553B\", \"#00cc96\", \"#ab63fa\", \"#FFA15A\", \"#19d3f3\", \"#FF6692\", \"#B6E880\", \"#FF97FF\", \"#FECB52\"], \"font\": {\"color\": \"#2a3f5f\"}, \"geo\": {\"bgcolor\": \"white\", \"lakecolor\": \"white\", \"landcolor\": \"#E5ECF6\", \"showlakes\": true, \"showland\": true, \"subunitcolor\": \"white\"}, \"hoverlabel\": {\"align\": \"left\"}, \"hovermode\": \"closest\", \"mapbox\": {\"style\": \"light\"}, \"paper_bgcolor\": \"white\", \"plot_bgcolor\": \"#E5ECF6\", \"polar\": {\"angularaxis\": {\"gridcolor\": \"white\", \"linecolor\": \"white\", \"ticks\": \"\"}, \"bgcolor\": \"#E5ECF6\", \"radialaxis\": {\"gridcolor\": \"white\", \"linecolor\": \"white\", \"ticks\": \"\"}}, \"scene\": {\"xaxis\": {\"backgroundcolor\": \"#E5ECF6\", \"gridcolor\": \"white\", \"gridwidth\": 2, \"linecolor\": \"white\", \"showbackground\": true, \"ticks\": \"\", \"zerolinecolor\": \"white\"}, \"yaxis\": {\"backgroundcolor\": \"#E5ECF6\", \"gridcolor\": \"white\", \"gridwidth\": 2, \"linecolor\": \"white\", \"showbackground\": true, \"ticks\": \"\", \"zerolinecolor\": \"white\"}, \"zaxis\": {\"backgroundcolor\": \"#E5ECF6\", \"gridcolor\": \"white\", \"gridwidth\": 2, \"linecolor\": \"white\", \"showbackground\": true, \"ticks\": \"\", \"zerolinecolor\": \"white\"}}, \"shapedefaults\": {\"line\": {\"color\": \"#2a3f5f\"}}, \"ternary\": {\"aaxis\": {\"gridcolor\": \"white\", \"linecolor\": \"white\", \"ticks\": \"\"}, \"baxis\": {\"gridcolor\": \"white\", \"linecolor\": \"white\", \"ticks\": \"\"}, \"bgcolor\": \"#E5ECF6\", \"caxis\": {\"gridcolor\": \"white\", \"linecolor\": \"white\", \"ticks\": \"\"}}, \"title\": {\"x\": 0.05}, \"xaxis\": {\"automargin\": true, \"gridcolor\": \"white\", \"linecolor\": \"white\", \"ticks\": \"\", \"title\": {\"standoff\": 15}, \"zerolinecolor\": \"white\", \"zerolinewidth\": 2}, \"yaxis\": {\"automargin\": true, \"gridcolor\": \"white\", \"linecolor\": \"white\", \"ticks\": \"\", \"title\": {\"standoff\": 15}, \"zerolinecolor\": \"white\", \"zerolinewidth\": 2}}}, \"xaxis\": {\"anchor\": \"y\", \"domain\": [0.0, 1.0], \"title\": {\"text\": \"result\"}}, \"yaxis\": {\"anchor\": \"x\", \"domain\": [0.0, 1.0], \"title\": {\"text\": \"ground\"}}},\n",
              "                        {\"responsive\": true}\n",
              "                    ).then(function(){\n",
              "                            \n",
              "var gd = document.getElementById('449ef043-49f0-4df3-b897-1eb6cfa12335');\n",
              "var x = new MutationObserver(function (mutations, observer) {{\n",
              "        var display = window.getComputedStyle(gd).display;\n",
              "        if (!display || display === 'none') {{\n",
              "            console.log([gd, 'removed!']);\n",
              "            Plotly.purge(gd);\n",
              "            observer.disconnect();\n",
              "        }}\n",
              "}});\n",
              "\n",
              "// Listen for the removal of the full notebook cells\n",
              "var notebookContainer = gd.closest('#notebook-container');\n",
              "if (notebookContainer) {{\n",
              "    x.observe(notebookContainer, {childList: true});\n",
              "}}\n",
              "\n",
              "// Listen for the clearing of the current output cell\n",
              "var outputEl = gd.closest('.output');\n",
              "if (outputEl) {{\n",
              "    x.observe(outputEl, {childList: true});\n",
              "}}\n",
              "\n",
              "                        })\n",
              "                };\n",
              "                \n",
              "            </script>\n",
              "        </div>\n",
              "</body>\n",
              "</html>"
            ]
          },
          "metadata": {
            "tags": []
          }
        }
      ]
    },
    {
      "cell_type": "code",
      "metadata": {
        "id": "IiGnBdz-WGUk",
        "colab_type": "code",
        "colab": {
          "base_uri": "https://localhost:8080/",
          "height": 542
        },
        "outputId": "6a6cc4c6-c5ba-4085-b04f-0df2635312a8"
      },
      "source": [
        "fig1 = px.box(india_record, x=\"result\", y=\"match_date\", points=\"all\")\n",
        "fig1.show()\n",
        "\n",
        "## THIS PLOT SHOWS THE VISUAL REPRESENTAION OF TOTAL NUMBER OF MATHCES INDIA HAS EITHER WON OR LOST ON A PARTICLUAR DAY"
      ],
      "execution_count": null,
      "outputs": [
        {
          "output_type": "display_data",
          "data": {
            "text/html": [
              "<html>\n",
              "<head><meta charset=\"utf-8\" /></head>\n",
              "<body>\n",
              "    <div>\n",
              "            <script src=\"https://cdnjs.cloudflare.com/ajax/libs/mathjax/2.7.5/MathJax.js?config=TeX-AMS-MML_SVG\"></script><script type=\"text/javascript\">if (window.MathJax) {MathJax.Hub.Config({SVG: {font: \"STIX-Web\"}});}</script>\n",
              "                <script type=\"text/javascript\">window.PlotlyConfig = {MathJaxConfig: 'local'};</script>\n",
              "        <script src=\"https://cdn.plot.ly/plotly-latest.min.js\"></script>    \n",
              "            <div id=\"1e28c650-b625-479b-ada7-5d89b0c3b5aa\" class=\"plotly-graph-div\" style=\"height:525px; width:100%;\"></div>\n",
              "            <script type=\"text/javascript\">\n",
              "                \n",
              "                    window.PLOTLYENV=window.PLOTLYENV || {};\n",
              "                    \n",
              "                if (document.getElementById(\"1e28c650-b625-479b-ada7-5d89b0c3b5aa\")) {\n",
              "                    Plotly.newPlot(\n",
              "                        '1e28c650-b625-479b-ada7-5d89b0c3b5aa',\n",
              "                        [{\"alignmentgroup\": \"True\", \"boxpoints\": \"all\", \"hoverlabel\": {\"namelength\": 0}, \"hovertemplate\": \"result=%{x}<br>match_date=%{y}\", \"legendgroup\": \"\", \"marker\": {\"color\": \"#636efa\"}, \"name\": \"\", \"notched\": false, \"offsetgroup\": \"\", \"orientation\": \"v\", \"showlegend\": false, \"type\": \"box\", \"x\": [\"Lost\", \"Won\", \"Won\", \"Won\", \"Lost\", \"Won\", \"Won\", \"Lost\", \"Lost\", \"Won\", \"Lost\", \"Lost\", \"Won\", \"Won\", \"Lost\", \"Won\", \"Lost\", \"Won\", \"Lost\", \"Won\", \"Lost\", \"Won\", \"Won\", \"Won\", \"Won\", \"Won\", \"Won\", \"Lost\", \"Won\", \"Won\", \"Lost\", \"Lost\", \"Won\", \"Won\", \"Won\", \"Won\", \"Lost\", \"Won\", \"Won\", \"Won\", \"Won\", \"Won\", \"Won\", \"Won\", \"Lost\", \"Lost\", \"Lost\", \"Lost\", \"Lost\", \"Won\", \"Lost\", \"Won\", \"Won\", \"Won\", \"Won\", \"Won\", \"Won\", \"Won\", \"Lost\", \"Won\", \"Won\", \"Lost\", \"Won\", \"Won\", \"Won\", \"Lost\", \"Lost\", \"Lost\", \"Won\", \"Won\", \"Lost\", \"Won\", \"Won\", \"Lost\", \"Won\", \"Won\", \"Won\", \"Lost\", \"Lost\", \"Won\", \"Lost\", \"Won\", \"Won\", \"Won\", \"Lost\", \"Won\", \"Won\", \"Won\", \"Won\", \"Won\", \"Lost\", \"Lost\", \"Won\", \"Won\", \"Won\", \"Won\", \"Won\", \"Won\", \"Won\", \"Won\", \"Lost\", \"Won\", \"Lost\", \"Lost\", \"Won\", \"Won\", \"Won\", \"Lost\", \"Won\", \"Lost\", \"Lost\", \"Lost\", \"Lost\", \"Lost\", \"Won\", \"Lost\", \"Lost\", \"Won\", \"Lost\", \"Lost\", \"Won\", \"Won\", \"Won\", \"Lost\", \"Won\", \"Won\", \"Won\", \"Lost\", \"Lost\", \"Won\", \"Won\", \"Won\", \"Won\", \"Won\", \"Won\", \"Won\", \"Lost\", \"Lost\", \"Lost\", \"Lost\", \"Won\", \"Won\", \"Won\", \"Won\", \"Won\", \"Won\", \"Won\", \"Lost\", \"Lost\", \"Lost\", \"Won\", \"Won\", \"Won\", \"Won\", \"Lost\", \"Won\", \"Lost\", \"Won\", \"Lost\", \"Lost\", \"Lost\", \"Lost\", \"Lost\", \"Won\", \"Won\", \"Won\", \"Won\", \"Won\", \"Lost\", \"Won\", \"Lost\", \"Won\", \"Won\", \"Won\", \"Lost\", \"Won\", \"Lost\", \"Won\", \"Won\", \"Lost\", \"Lost\", \"Won\", \"Won\", \"Lost\", \"Won\", \"Won\", \"Won\", \"Won\", \"Won\", \"Won\", \"Won\", \"Won\", \"Won\", \"Lost\", \"Won\", \"Lost\", \"Won\", \"Won\", \"Lost\", \"Won\", \"Won\", \"Won\", \"Won\", \"Won\", \"Lost\", \"Won\", \"Won\", \"Won\", \"Lost\", \"Lost\", \"Won\", \"Won\", \"Won\", \"Won\", \"Won\", \"Won\", \"Won\", \"Won\", \"Lost\", \"Won\", \"Won\", \"Lost\", \"Won\", \"Won\", \"Won\", \"Won\", \"Won\", \"Lost\", \"Won\", \"Won\", \"Won\", \"Lost\", \"Lost\", \"Lost\", \"Won\", \"Won\", \"Won\", \"Won\", \"Won\", \"Lost\", \"Won\", \"Won\", \"Lost\", \"Lost\", \"Won\", \"Won\", \"Lost\", \"Won\", \"Won\"], \"x0\": \" \", \"xaxis\": \"x\", \"y\": [\"Jan 5, 2010\", \"Jan 7, 2010\", \"Jan 10, 2010\", \"Jan 11, 2010\", \"Jan 13, 2010\", \"Feb 21, 2010\", \"Feb 24, 2010\", \"Feb 27, 2010\", \"May 28, 2010\", \"May 30, 2010\", \"Jun 3, 2010\", \"Jun 5, 2010\", \"Jun 16, 2010\", \"Jun 19, 2010\", \"Jun 22, 2010\", \"Jun 24, 2010\", \"Aug 10, 2010\", \"Aug 16, 2010\", \"Aug 22, 2010\", \"Aug 25, 2010\", \"Aug 28, 2010\", \"Oct 20, 2010\", \"Nov 28, 2010\", \"Dec 1, 2010\", \"Dec 4, 2010\", \"Dec 7, 2010\", \"Dec 10, 2010\", \"Jan 12, 2011\", \"Jan 15, 2011\", \"Jan 18, 2011\", \"Jan 21, 2011\", \"Jan 23, 2011\", \"Feb 19, 2011\", \"Feb 27, 2011\", \"Mar 6, 2011\", \"Mar 9, 2011\", \"Mar 12, 2011\", \"Mar 20, 2011\", \"Mar 24, 2011\", \"Mar 30, 2011\", \"Apr 2, 2011\", \"Jun 6, 2011\", \"Jun 8, 2011\", \"Jun 11, 2011\", \"Jun 13, 2011\", \"Jun 16, 2011\", \"Sep 3, 2011\", \"Sep 6, 2011\", \"Sep 9, 2011\", \"Sep 11, 2011\", \"Sep 16, 2011\", \"Oct 14, 2011\", \"Oct 17, 2011\", \"Oct 20, 2011\", \"Oct 23, 2011\", \"Oct 25, 2011\", \"Nov 29, 2011\", \"Dec 2, 2011\", \"Dec 5, 2011\", \"Dec 8, 2011\", \"Dec 11, 2011\", \"Feb 5, 2012\", \"Feb 8, 2012\", \"Feb 12, 2012\", \"Feb 14, 2012\", \"Feb 19, 2012\", \"Feb 21, 2012\", \"Feb 26, 2012\", \"Feb 28, 2012\", \"Mar 13, 2012\", \"Mar 16, 2012\", \"Mar 18, 2012\", \"Jul 21, 2012\", \"Jul 24, 2012\", \"Jul 28, 2012\", \"Jul 31, 2012\", \"Aug 4, 2012\", \"Dec 30, 2012\", \"Jan 3, 2013\", \"Jan 6, 2013\", \"Jan 11, 2013\", \"Jan 15, 2013\", \"Jan 19, 2013\", \"Jan 23, 2013\", \"Jan 27, 2013\", \"Jun 6, 2013\", \"Jun 11, 2013\", \"Jun 15, 2013\", \"Jun 20, 2013\", \"Jun 23, 2013\", \"Jun 30, 2013\", \"Jul 2, 2013\", \"Jul 5, 2013\", \"Jul 9, 2013\", \"Jul 11, 2013\", \"Jul 24, 2013\", \"Jul 26, 2013\", \"Jul 28, 2013\", \"Aug 1, 2013\", \"Aug 3, 2013\", \"Oct 13, 2013\", \"Oct 16, 2013\", \"Oct 19, 2013\", \"Oct 23, 2013\", \"Oct 30, 2013\", \"Nov 2, 2013\", \"Nov 21, 2013\", \"Nov 24, 2013\", \"Nov 27, 2013\", \"Dec 5, 2013\", \"Dec 8, 2013\", \"Dec 11, 2013\", \"Jan 19, 2014\", \"Jan 22, 2014\", \"Jan 25, 2014\", \"Jan 28, 2014\", \"Jan 31, 2014\", \"Feb 26, 2014\", \"Feb 28, 2014\", \"Mar 2, 2014\", \"Mar 5, 2014\", \"Jun 15, 2014\", \"Jun 17, 2014\", \"Jun 19, 2014\", \"Aug 27, 2014\", \"Aug 30, 2014\", \"Sep 2, 2014\", \"Sep 5, 2014\", \"Oct 8, 2014\", \"Oct 11, 2014\", \"Oct 17, 2014\", \"Nov 2, 2014\", \"Nov 6, 2014\", \"Nov 9, 2014\", \"Nov 13, 2014\", \"Nov 16, 2014\", \"Jan 18, 2015\", \"Jan 20, 2015\", \"Jan 26, 2015\", \"Jan 30, 2015\", \"Feb 15, 2015\", \"Feb 22, 2015\", \"Feb 28, 2015\", \"Mar 6, 2015\", \"Mar 10, 2015\", \"Mar 14, 2015\", \"Mar 19, 2015\", \"Mar 26, 2015\", \"Jun 18, 2015\", \"Jun 21, 2015\", \"Jun 24, 2015\", \"Jul 10, 2015\", \"Jul 12, 2015\", \"Jul 14, 2015\", \"Oct 11, 2015\", \"Oct 14, 2015\", \"Oct 18, 2015\", \"Oct 22, 2015\", \"Oct 25, 2015\", \"Jan 12, 2016\", \"Jan 15, 2016\", \"Jan 17, 2016\", \"Jan 20, 2016\", \"Jan 23, 2016\", \"Jun 11, 2016\", \"Jun 13, 2016\", \"Jun 15, 2016\", \"Oct 16, 2016\", \"Oct 20, 2016\", \"Oct 23, 2016\", \"Oct 26, 2016\", \"Oct 29, 2016\", \"Jan 15, 2017\", \"Jan 19, 2017\", \"Jan 22, 2017\", \"Jun 4, 2017\", \"Jun 8, 2017\", \"Jun 11, 2017\", \"Jun 15, 2017\", \"Jun 18, 2017\", \"Jun 23, 2017\", \"Jun 25, 2017\", \"Jun 30, 2017\", \"Jul 2, 2017\", \"Jul 6, 2017\", \"Aug 20, 2017\", \"Aug 24, 2017\", \"Aug 27, 2017\", \"Aug 31, 2017\", \"Sep 3, 2017\", \"Sep 17, 2017\", \"Sep 21, 2017\", \"Sep 24, 2017\", \"Sep 28, 2017\", \"Oct 1, 2017\", \"Oct 22, 2017\", \"Oct 25, 2017\", \"Oct 29, 2017\", \"Dec 10, 2017\", \"Dec 13, 2017\", \"Dec 17, 2017\", \"Feb 1, 2018\", \"Feb 4, 2018\", \"Feb 7, 2018\", \"Feb 10, 2018\", \"Feb 13, 2018\", \"Feb 16, 2018\", \"Jul 12, 2018\", \"Jul 14, 2018\", \"Jul 17, 2018\", \"Sep 18, 2018\", \"Sep 19, 2018\", \"Sep 21, 2018\", \"Sep 23, 2018\", \"Sep 25, 2018\", \"Sep 28, 2018\", \"Oct 21, 2018\", \"Oct 24, 2018\", \"Oct 27, 2018\", \"Oct 29, 2018\", \"Nov 1, 2018\", \"Jan 12, 2019\", \"Jan 15, 2019\", \"Jan 18, 2019\", \"Jan 23, 2019\", \"Jan 26, 2019\", \"Jan 28, 2019\", \"Jan 31, 2019\", \"Feb 3, 2019\", \"Mar 2, 2019\", \"Mar 5, 2019\", \"Mar 8, 2019\", \"Mar 10, 2019\", \"Mar 13, 2019\", \"Jun 5, 2019\", \"Jun 9, 2019\", \"Jun 16, 2019\", \"Jun 22, 2019\", \"Jun 27, 2019\", \"Jun 30, 2019\", \"Jul 2, 2019\", \"Jul 6, 2019\", \"Jul 9-10, 2019\", \"Aug 8, 2019\", \"Aug 11, 2019\", \"Aug 14, 2019\", \"Dec 15, 2019\", \"Dec 18, 2019\", \"Dec 22, 2019\"], \"y0\": \" \", \"yaxis\": \"y\"}],\n",
              "                        {\"boxmode\": \"group\", \"legend\": {\"tracegroupgap\": 0}, \"margin\": {\"t\": 60}, \"template\": {\"data\": {\"bar\": [{\"error_x\": {\"color\": \"#2a3f5f\"}, \"error_y\": {\"color\": \"#2a3f5f\"}, \"marker\": {\"line\": {\"color\": \"#E5ECF6\", \"width\": 0.5}}, \"type\": \"bar\"}], \"barpolar\": [{\"marker\": {\"line\": {\"color\": \"#E5ECF6\", \"width\": 0.5}}, \"type\": \"barpolar\"}], \"carpet\": [{\"aaxis\": {\"endlinecolor\": \"#2a3f5f\", \"gridcolor\": \"white\", \"linecolor\": \"white\", \"minorgridcolor\": \"white\", \"startlinecolor\": \"#2a3f5f\"}, \"baxis\": {\"endlinecolor\": \"#2a3f5f\", \"gridcolor\": \"white\", \"linecolor\": \"white\", \"minorgridcolor\": \"white\", \"startlinecolor\": \"#2a3f5f\"}, \"type\": \"carpet\"}], \"choropleth\": [{\"colorbar\": {\"outlinewidth\": 0, \"ticks\": \"\"}, \"type\": \"choropleth\"}], \"contour\": [{\"colorbar\": {\"outlinewidth\": 0, \"ticks\": \"\"}, \"colorscale\": [[0.0, \"#0d0887\"], [0.1111111111111111, \"#46039f\"], [0.2222222222222222, \"#7201a8\"], [0.3333333333333333, \"#9c179e\"], [0.4444444444444444, \"#bd3786\"], [0.5555555555555556, \"#d8576b\"], [0.6666666666666666, \"#ed7953\"], [0.7777777777777778, \"#fb9f3a\"], [0.8888888888888888, \"#fdca26\"], [1.0, \"#f0f921\"]], \"type\": \"contour\"}], \"contourcarpet\": [{\"colorbar\": {\"outlinewidth\": 0, \"ticks\": \"\"}, \"type\": \"contourcarpet\"}], \"heatmap\": [{\"colorbar\": {\"outlinewidth\": 0, \"ticks\": \"\"}, \"colorscale\": [[0.0, \"#0d0887\"], [0.1111111111111111, \"#46039f\"], [0.2222222222222222, \"#7201a8\"], [0.3333333333333333, \"#9c179e\"], [0.4444444444444444, \"#bd3786\"], [0.5555555555555556, \"#d8576b\"], [0.6666666666666666, \"#ed7953\"], [0.7777777777777778, \"#fb9f3a\"], [0.8888888888888888, \"#fdca26\"], [1.0, \"#f0f921\"]], \"type\": \"heatmap\"}], \"heatmapgl\": [{\"colorbar\": {\"outlinewidth\": 0, \"ticks\": \"\"}, \"colorscale\": [[0.0, \"#0d0887\"], [0.1111111111111111, \"#46039f\"], [0.2222222222222222, \"#7201a8\"], [0.3333333333333333, \"#9c179e\"], [0.4444444444444444, \"#bd3786\"], [0.5555555555555556, \"#d8576b\"], [0.6666666666666666, \"#ed7953\"], [0.7777777777777778, \"#fb9f3a\"], [0.8888888888888888, \"#fdca26\"], [1.0, \"#f0f921\"]], \"type\": \"heatmapgl\"}], \"histogram\": [{\"marker\": {\"colorbar\": {\"outlinewidth\": 0, \"ticks\": \"\"}}, \"type\": \"histogram\"}], \"histogram2d\": [{\"colorbar\": {\"outlinewidth\": 0, \"ticks\": \"\"}, \"colorscale\": [[0.0, \"#0d0887\"], [0.1111111111111111, \"#46039f\"], [0.2222222222222222, \"#7201a8\"], [0.3333333333333333, \"#9c179e\"], [0.4444444444444444, \"#bd3786\"], [0.5555555555555556, \"#d8576b\"], [0.6666666666666666, \"#ed7953\"], [0.7777777777777778, \"#fb9f3a\"], [0.8888888888888888, \"#fdca26\"], [1.0, \"#f0f921\"]], \"type\": \"histogram2d\"}], \"histogram2dcontour\": [{\"colorbar\": {\"outlinewidth\": 0, \"ticks\": \"\"}, \"colorscale\": [[0.0, \"#0d0887\"], [0.1111111111111111, \"#46039f\"], [0.2222222222222222, \"#7201a8\"], [0.3333333333333333, \"#9c179e\"], [0.4444444444444444, \"#bd3786\"], [0.5555555555555556, \"#d8576b\"], [0.6666666666666666, \"#ed7953\"], [0.7777777777777778, \"#fb9f3a\"], [0.8888888888888888, \"#fdca26\"], [1.0, \"#f0f921\"]], \"type\": \"histogram2dcontour\"}], \"mesh3d\": [{\"colorbar\": {\"outlinewidth\": 0, \"ticks\": \"\"}, \"type\": \"mesh3d\"}], \"parcoords\": [{\"line\": {\"colorbar\": {\"outlinewidth\": 0, \"ticks\": \"\"}}, \"type\": \"parcoords\"}], \"pie\": [{\"automargin\": true, \"type\": \"pie\"}], \"scatter\": [{\"marker\": {\"colorbar\": {\"outlinewidth\": 0, \"ticks\": \"\"}}, \"type\": \"scatter\"}], \"scatter3d\": [{\"line\": {\"colorbar\": {\"outlinewidth\": 0, \"ticks\": \"\"}}, \"marker\": {\"colorbar\": {\"outlinewidth\": 0, \"ticks\": \"\"}}, \"type\": \"scatter3d\"}], \"scattercarpet\": [{\"marker\": {\"colorbar\": {\"outlinewidth\": 0, \"ticks\": \"\"}}, \"type\": \"scattercarpet\"}], \"scattergeo\": [{\"marker\": {\"colorbar\": {\"outlinewidth\": 0, \"ticks\": \"\"}}, \"type\": \"scattergeo\"}], \"scattergl\": [{\"marker\": {\"colorbar\": {\"outlinewidth\": 0, \"ticks\": \"\"}}, \"type\": \"scattergl\"}], \"scattermapbox\": [{\"marker\": {\"colorbar\": {\"outlinewidth\": 0, \"ticks\": \"\"}}, \"type\": \"scattermapbox\"}], \"scatterpolar\": [{\"marker\": {\"colorbar\": {\"outlinewidth\": 0, \"ticks\": \"\"}}, \"type\": \"scatterpolar\"}], \"scatterpolargl\": [{\"marker\": {\"colorbar\": {\"outlinewidth\": 0, \"ticks\": \"\"}}, \"type\": \"scatterpolargl\"}], \"scatterternary\": [{\"marker\": {\"colorbar\": {\"outlinewidth\": 0, \"ticks\": \"\"}}, \"type\": \"scatterternary\"}], \"surface\": [{\"colorbar\": {\"outlinewidth\": 0, \"ticks\": \"\"}, \"colorscale\": [[0.0, \"#0d0887\"], [0.1111111111111111, \"#46039f\"], [0.2222222222222222, \"#7201a8\"], [0.3333333333333333, \"#9c179e\"], [0.4444444444444444, \"#bd3786\"], [0.5555555555555556, \"#d8576b\"], [0.6666666666666666, \"#ed7953\"], [0.7777777777777778, \"#fb9f3a\"], [0.8888888888888888, \"#fdca26\"], [1.0, \"#f0f921\"]], \"type\": \"surface\"}], \"table\": [{\"cells\": {\"fill\": {\"color\": \"#EBF0F8\"}, \"line\": {\"color\": \"white\"}}, \"header\": {\"fill\": {\"color\": \"#C8D4E3\"}, \"line\": {\"color\": \"white\"}}, \"type\": \"table\"}]}, \"layout\": {\"annotationdefaults\": {\"arrowcolor\": \"#2a3f5f\", \"arrowhead\": 0, \"arrowwidth\": 1}, \"coloraxis\": {\"colorbar\": {\"outlinewidth\": 0, \"ticks\": \"\"}}, \"colorscale\": {\"diverging\": [[0, \"#8e0152\"], [0.1, \"#c51b7d\"], [0.2, \"#de77ae\"], [0.3, \"#f1b6da\"], [0.4, \"#fde0ef\"], [0.5, \"#f7f7f7\"], [0.6, \"#e6f5d0\"], [0.7, \"#b8e186\"], [0.8, \"#7fbc41\"], [0.9, \"#4d9221\"], [1, \"#276419\"]], \"sequential\": [[0.0, \"#0d0887\"], [0.1111111111111111, \"#46039f\"], [0.2222222222222222, \"#7201a8\"], [0.3333333333333333, \"#9c179e\"], [0.4444444444444444, \"#bd3786\"], [0.5555555555555556, \"#d8576b\"], [0.6666666666666666, \"#ed7953\"], [0.7777777777777778, \"#fb9f3a\"], [0.8888888888888888, \"#fdca26\"], [1.0, \"#f0f921\"]], \"sequentialminus\": [[0.0, \"#0d0887\"], [0.1111111111111111, \"#46039f\"], [0.2222222222222222, \"#7201a8\"], [0.3333333333333333, \"#9c179e\"], [0.4444444444444444, \"#bd3786\"], [0.5555555555555556, \"#d8576b\"], [0.6666666666666666, \"#ed7953\"], [0.7777777777777778, \"#fb9f3a\"], [0.8888888888888888, \"#fdca26\"], [1.0, \"#f0f921\"]]}, \"colorway\": [\"#636efa\", \"#EF553B\", \"#00cc96\", \"#ab63fa\", \"#FFA15A\", \"#19d3f3\", \"#FF6692\", \"#B6E880\", \"#FF97FF\", \"#FECB52\"], \"font\": {\"color\": \"#2a3f5f\"}, \"geo\": {\"bgcolor\": \"white\", \"lakecolor\": \"white\", \"landcolor\": \"#E5ECF6\", \"showlakes\": true, \"showland\": true, \"subunitcolor\": \"white\"}, \"hoverlabel\": {\"align\": \"left\"}, \"hovermode\": \"closest\", \"mapbox\": {\"style\": \"light\"}, \"paper_bgcolor\": \"white\", \"plot_bgcolor\": \"#E5ECF6\", \"polar\": {\"angularaxis\": {\"gridcolor\": \"white\", \"linecolor\": \"white\", \"ticks\": \"\"}, \"bgcolor\": \"#E5ECF6\", \"radialaxis\": {\"gridcolor\": \"white\", \"linecolor\": \"white\", \"ticks\": \"\"}}, \"scene\": {\"xaxis\": {\"backgroundcolor\": \"#E5ECF6\", \"gridcolor\": \"white\", \"gridwidth\": 2, \"linecolor\": \"white\", \"showbackground\": true, \"ticks\": \"\", \"zerolinecolor\": \"white\"}, \"yaxis\": {\"backgroundcolor\": \"#E5ECF6\", \"gridcolor\": \"white\", \"gridwidth\": 2, \"linecolor\": \"white\", \"showbackground\": true, \"ticks\": \"\", \"zerolinecolor\": \"white\"}, \"zaxis\": {\"backgroundcolor\": \"#E5ECF6\", \"gridcolor\": \"white\", \"gridwidth\": 2, \"linecolor\": \"white\", \"showbackground\": true, \"ticks\": \"\", \"zerolinecolor\": \"white\"}}, \"shapedefaults\": {\"line\": {\"color\": \"#2a3f5f\"}}, \"ternary\": {\"aaxis\": {\"gridcolor\": \"white\", \"linecolor\": \"white\", \"ticks\": \"\"}, \"baxis\": {\"gridcolor\": \"white\", \"linecolor\": \"white\", \"ticks\": \"\"}, \"bgcolor\": \"#E5ECF6\", \"caxis\": {\"gridcolor\": \"white\", \"linecolor\": \"white\", \"ticks\": \"\"}}, \"title\": {\"x\": 0.05}, \"xaxis\": {\"automargin\": true, \"gridcolor\": \"white\", \"linecolor\": \"white\", \"ticks\": \"\", \"title\": {\"standoff\": 15}, \"zerolinecolor\": \"white\", \"zerolinewidth\": 2}, \"yaxis\": {\"automargin\": true, \"gridcolor\": \"white\", \"linecolor\": \"white\", \"ticks\": \"\", \"title\": {\"standoff\": 15}, \"zerolinecolor\": \"white\", \"zerolinewidth\": 2}}}, \"xaxis\": {\"anchor\": \"y\", \"domain\": [0.0, 1.0], \"title\": {\"text\": \"result\"}}, \"yaxis\": {\"anchor\": \"x\", \"domain\": [0.0, 1.0], \"title\": {\"text\": \"match_date\"}}},\n",
              "                        {\"responsive\": true}\n",
              "                    ).then(function(){\n",
              "                            \n",
              "var gd = document.getElementById('1e28c650-b625-479b-ada7-5d89b0c3b5aa');\n",
              "var x = new MutationObserver(function (mutations, observer) {{\n",
              "        var display = window.getComputedStyle(gd).display;\n",
              "        if (!display || display === 'none') {{\n",
              "            console.log([gd, 'removed!']);\n",
              "            Plotly.purge(gd);\n",
              "            observer.disconnect();\n",
              "        }}\n",
              "}});\n",
              "\n",
              "// Listen for the removal of the full notebook cells\n",
              "var notebookContainer = gd.closest('#notebook-container');\n",
              "if (notebookContainer) {{\n",
              "    x.observe(notebookContainer, {childList: true});\n",
              "}}\n",
              "\n",
              "// Listen for the clearing of the current output cell\n",
              "var outputEl = gd.closest('.output');\n",
              "if (outputEl) {{\n",
              "    x.observe(outputEl, {childList: true});\n",
              "}}\n",
              "\n",
              "                        })\n",
              "                };\n",
              "                \n",
              "            </script>\n",
              "        </div>\n",
              "</body>\n",
              "</html>"
            ]
          },
          "metadata": {
            "tags": []
          }
        }
      ]
    },
    {
      "cell_type": "code",
      "metadata": {
        "id": "Xisbz_ndWQt1",
        "colab_type": "code",
        "colab": {
          "base_uri": "https://localhost:8080/",
          "height": 542
        },
        "outputId": "dc723f7c-54f0-4cc5-cde1-046a02220c3d"
      },
      "source": [
        "fig3 = px.box(india_record, x=\"result\", y=\"year\", points=\"all\")\n",
        "fig3.show()\n",
        "\n",
        "## THIS PLOT SHOWS THE VISUAL REPRESENTAION OF NUMBER OF MATHCES INDIA HAS EITHER WON OR LOST IN VARIOUS YEARS"
      ],
      "execution_count": null,
      "outputs": [
        {
          "output_type": "display_data",
          "data": {
            "text/html": [
              "<html>\n",
              "<head><meta charset=\"utf-8\" /></head>\n",
              "<body>\n",
              "    <div>\n",
              "            <script src=\"https://cdnjs.cloudflare.com/ajax/libs/mathjax/2.7.5/MathJax.js?config=TeX-AMS-MML_SVG\"></script><script type=\"text/javascript\">if (window.MathJax) {MathJax.Hub.Config({SVG: {font: \"STIX-Web\"}});}</script>\n",
              "                <script type=\"text/javascript\">window.PlotlyConfig = {MathJaxConfig: 'local'};</script>\n",
              "        <script src=\"https://cdn.plot.ly/plotly-latest.min.js\"></script>    \n",
              "            <div id=\"bf002ee7-30a8-4a2e-8fca-e1d8116121db\" class=\"plotly-graph-div\" style=\"height:525px; width:100%;\"></div>\n",
              "            <script type=\"text/javascript\">\n",
              "                \n",
              "                    window.PLOTLYENV=window.PLOTLYENV || {};\n",
              "                    \n",
              "                if (document.getElementById(\"bf002ee7-30a8-4a2e-8fca-e1d8116121db\")) {\n",
              "                    Plotly.newPlot(\n",
              "                        'bf002ee7-30a8-4a2e-8fca-e1d8116121db',\n",
              "                        [{\"alignmentgroup\": \"True\", \"boxpoints\": \"all\", \"hoverlabel\": {\"namelength\": 0}, \"hovertemplate\": \"result=%{x}<br>year=%{y}\", \"legendgroup\": \"\", \"marker\": {\"color\": \"#636efa\"}, \"name\": \"\", \"notched\": false, \"offsetgroup\": \"\", \"orientation\": \"v\", \"showlegend\": false, \"type\": \"box\", \"x\": [\"Lost\", \"Won\", \"Won\", \"Won\", \"Lost\", \"Won\", \"Won\", \"Lost\", \"Lost\", \"Won\", \"Lost\", \"Lost\", \"Won\", \"Won\", \"Lost\", \"Won\", \"Lost\", \"Won\", \"Lost\", \"Won\", \"Lost\", \"Won\", \"Won\", \"Won\", \"Won\", \"Won\", \"Won\", \"Lost\", \"Won\", \"Won\", \"Lost\", \"Lost\", \"Won\", \"Won\", \"Won\", \"Won\", \"Lost\", \"Won\", \"Won\", \"Won\", \"Won\", \"Won\", \"Won\", \"Won\", \"Lost\", \"Lost\", \"Lost\", \"Lost\", \"Lost\", \"Won\", \"Lost\", \"Won\", \"Won\", \"Won\", \"Won\", \"Won\", \"Won\", \"Won\", \"Lost\", \"Won\", \"Won\", \"Lost\", \"Won\", \"Won\", \"Won\", \"Lost\", \"Lost\", \"Lost\", \"Won\", \"Won\", \"Lost\", \"Won\", \"Won\", \"Lost\", \"Won\", \"Won\", \"Won\", \"Lost\", \"Lost\", \"Won\", \"Lost\", \"Won\", \"Won\", \"Won\", \"Lost\", \"Won\", \"Won\", \"Won\", \"Won\", \"Won\", \"Lost\", \"Lost\", \"Won\", \"Won\", \"Won\", \"Won\", \"Won\", \"Won\", \"Won\", \"Won\", \"Lost\", \"Won\", \"Lost\", \"Lost\", \"Won\", \"Won\", \"Won\", \"Lost\", \"Won\", \"Lost\", \"Lost\", \"Lost\", \"Lost\", \"Lost\", \"Won\", \"Lost\", \"Lost\", \"Won\", \"Lost\", \"Lost\", \"Won\", \"Won\", \"Won\", \"Lost\", \"Won\", \"Won\", \"Won\", \"Lost\", \"Lost\", \"Won\", \"Won\", \"Won\", \"Won\", \"Won\", \"Won\", \"Won\", \"Lost\", \"Lost\", \"Lost\", \"Lost\", \"Won\", \"Won\", \"Won\", \"Won\", \"Won\", \"Won\", \"Won\", \"Lost\", \"Lost\", \"Lost\", \"Won\", \"Won\", \"Won\", \"Won\", \"Lost\", \"Won\", \"Lost\", \"Won\", \"Lost\", \"Lost\", \"Lost\", \"Lost\", \"Lost\", \"Won\", \"Won\", \"Won\", \"Won\", \"Won\", \"Lost\", \"Won\", \"Lost\", \"Won\", \"Won\", \"Won\", \"Lost\", \"Won\", \"Lost\", \"Won\", \"Won\", \"Lost\", \"Lost\", \"Won\", \"Won\", \"Lost\", \"Won\", \"Won\", \"Won\", \"Won\", \"Won\", \"Won\", \"Won\", \"Won\", \"Won\", \"Lost\", \"Won\", \"Lost\", \"Won\", \"Won\", \"Lost\", \"Won\", \"Won\", \"Won\", \"Won\", \"Won\", \"Lost\", \"Won\", \"Won\", \"Won\", \"Lost\", \"Lost\", \"Won\", \"Won\", \"Won\", \"Won\", \"Won\", \"Won\", \"Won\", \"Won\", \"Lost\", \"Won\", \"Won\", \"Lost\", \"Won\", \"Won\", \"Won\", \"Won\", \"Won\", \"Lost\", \"Won\", \"Won\", \"Won\", \"Lost\", \"Lost\", \"Lost\", \"Won\", \"Won\", \"Won\", \"Won\", \"Won\", \"Lost\", \"Won\", \"Won\", \"Lost\", \"Lost\", \"Won\", \"Won\", \"Lost\", \"Won\", \"Won\"], \"x0\": \" \", \"xaxis\": \"x\", \"y\": [2010, 2010, 2010, 2010, 2010, 2010, 2010, 2010, 2010, 2010, 2010, 2010, 2010, 2010, 2010, 2010, 2010, 2010, 2010, 2010, 2010, 2010, 2010, 2010, 2010, 2010, 2010, 2011, 2011, 2011, 2011, 2011, 2011, 2011, 2011, 2011, 2011, 2011, 2011, 2011, 2011, 2011, 2011, 2011, 2011, 2011, 2011, 2011, 2011, 2011, 2011, 2011, 2011, 2011, 2011, 2011, 2011, 2011, 2011, 2011, 2011, 2012, 2012, 2012, 2012, 2012, 2012, 2012, 2012, 2012, 2012, 2012, 2012, 2012, 2012, 2012, 2012, 2012, 2013, 2013, 2013, 2013, 2013, 2013, 2013, 2013, 2013, 2013, 2013, 2013, 2013, 2013, 2013, 2013, 2013, 2013, 2013, 2013, 2013, 2013, 2013, 2013, 2013, 2013, 2013, 2013, 2013, 2013, 2013, 2013, 2013, 2013, 2014, 2014, 2014, 2014, 2014, 2014, 2014, 2014, 2014, 2014, 2014, 2014, 2014, 2014, 2014, 2014, 2014, 2014, 2014, 2014, 2014, 2014, 2014, 2014, 2015, 2015, 2015, 2015, 2015, 2015, 2015, 2015, 2015, 2015, 2015, 2015, 2015, 2015, 2015, 2015, 2015, 2015, 2015, 2015, 2015, 2015, 2015, 2016, 2016, 2016, 2016, 2016, 2016, 2016, 2016, 2016, 2016, 2016, 2016, 2016, 2017, 2017, 2017, 2017, 2017, 2017, 2017, 2017, 2017, 2017, 2017, 2017, 2017, 2017, 2017, 2017, 2017, 2017, 2017, 2017, 2017, 2017, 2017, 2017, 2017, 2017, 2017, 2017, 2017, 2018, 2018, 2018, 2018, 2018, 2018, 2018, 2018, 2018, 2018, 2018, 2018, 2018, 2018, 2018, 2018, 2018, 2018, 2018, 2018, 2019, 2019, 2019, 2019, 2019, 2019, 2019, 2019, 2019, 2019, 2019, 2019, 2019, 2019, 2019, 2019, 2019, 2019, 2019, 2019, 2019, 2019, 2019, 2019, 2019, 2019, 2019, 2019], \"y0\": \" \", \"yaxis\": \"y\"}],\n",
              "                        {\"boxmode\": \"group\", \"legend\": {\"tracegroupgap\": 0}, \"margin\": {\"t\": 60}, \"template\": {\"data\": {\"bar\": [{\"error_x\": {\"color\": \"#2a3f5f\"}, \"error_y\": {\"color\": \"#2a3f5f\"}, \"marker\": {\"line\": {\"color\": \"#E5ECF6\", \"width\": 0.5}}, \"type\": \"bar\"}], \"barpolar\": [{\"marker\": {\"line\": {\"color\": \"#E5ECF6\", \"width\": 0.5}}, \"type\": \"barpolar\"}], \"carpet\": [{\"aaxis\": {\"endlinecolor\": \"#2a3f5f\", \"gridcolor\": \"white\", \"linecolor\": \"white\", \"minorgridcolor\": \"white\", \"startlinecolor\": \"#2a3f5f\"}, \"baxis\": {\"endlinecolor\": \"#2a3f5f\", \"gridcolor\": \"white\", \"linecolor\": \"white\", \"minorgridcolor\": \"white\", \"startlinecolor\": \"#2a3f5f\"}, \"type\": \"carpet\"}], \"choropleth\": [{\"colorbar\": {\"outlinewidth\": 0, \"ticks\": \"\"}, \"type\": \"choropleth\"}], \"contour\": [{\"colorbar\": {\"outlinewidth\": 0, \"ticks\": \"\"}, \"colorscale\": [[0.0, \"#0d0887\"], [0.1111111111111111, \"#46039f\"], [0.2222222222222222, \"#7201a8\"], [0.3333333333333333, \"#9c179e\"], [0.4444444444444444, \"#bd3786\"], [0.5555555555555556, \"#d8576b\"], [0.6666666666666666, \"#ed7953\"], [0.7777777777777778, \"#fb9f3a\"], [0.8888888888888888, \"#fdca26\"], [1.0, \"#f0f921\"]], \"type\": \"contour\"}], \"contourcarpet\": [{\"colorbar\": {\"outlinewidth\": 0, \"ticks\": \"\"}, \"type\": \"contourcarpet\"}], \"heatmap\": [{\"colorbar\": {\"outlinewidth\": 0, \"ticks\": \"\"}, \"colorscale\": [[0.0, \"#0d0887\"], [0.1111111111111111, \"#46039f\"], [0.2222222222222222, \"#7201a8\"], [0.3333333333333333, \"#9c179e\"], [0.4444444444444444, \"#bd3786\"], [0.5555555555555556, \"#d8576b\"], [0.6666666666666666, \"#ed7953\"], [0.7777777777777778, \"#fb9f3a\"], [0.8888888888888888, \"#fdca26\"], [1.0, \"#f0f921\"]], \"type\": \"heatmap\"}], \"heatmapgl\": [{\"colorbar\": {\"outlinewidth\": 0, \"ticks\": \"\"}, \"colorscale\": [[0.0, \"#0d0887\"], [0.1111111111111111, \"#46039f\"], [0.2222222222222222, \"#7201a8\"], [0.3333333333333333, \"#9c179e\"], [0.4444444444444444, \"#bd3786\"], [0.5555555555555556, \"#d8576b\"], [0.6666666666666666, \"#ed7953\"], [0.7777777777777778, \"#fb9f3a\"], [0.8888888888888888, \"#fdca26\"], [1.0, \"#f0f921\"]], \"type\": \"heatmapgl\"}], \"histogram\": [{\"marker\": {\"colorbar\": {\"outlinewidth\": 0, \"ticks\": \"\"}}, \"type\": \"histogram\"}], \"histogram2d\": [{\"colorbar\": {\"outlinewidth\": 0, \"ticks\": \"\"}, \"colorscale\": [[0.0, \"#0d0887\"], [0.1111111111111111, \"#46039f\"], [0.2222222222222222, \"#7201a8\"], [0.3333333333333333, \"#9c179e\"], [0.4444444444444444, \"#bd3786\"], [0.5555555555555556, \"#d8576b\"], [0.6666666666666666, \"#ed7953\"], [0.7777777777777778, \"#fb9f3a\"], [0.8888888888888888, \"#fdca26\"], [1.0, \"#f0f921\"]], \"type\": \"histogram2d\"}], \"histogram2dcontour\": [{\"colorbar\": {\"outlinewidth\": 0, \"ticks\": \"\"}, \"colorscale\": [[0.0, \"#0d0887\"], [0.1111111111111111, \"#46039f\"], [0.2222222222222222, \"#7201a8\"], [0.3333333333333333, \"#9c179e\"], [0.4444444444444444, \"#bd3786\"], [0.5555555555555556, \"#d8576b\"], [0.6666666666666666, \"#ed7953\"], [0.7777777777777778, \"#fb9f3a\"], [0.8888888888888888, \"#fdca26\"], [1.0, \"#f0f921\"]], \"type\": \"histogram2dcontour\"}], \"mesh3d\": [{\"colorbar\": {\"outlinewidth\": 0, \"ticks\": \"\"}, \"type\": \"mesh3d\"}], \"parcoords\": [{\"line\": {\"colorbar\": {\"outlinewidth\": 0, \"ticks\": \"\"}}, \"type\": \"parcoords\"}], \"pie\": [{\"automargin\": true, \"type\": \"pie\"}], \"scatter\": [{\"marker\": {\"colorbar\": {\"outlinewidth\": 0, \"ticks\": \"\"}}, \"type\": \"scatter\"}], \"scatter3d\": [{\"line\": {\"colorbar\": {\"outlinewidth\": 0, \"ticks\": \"\"}}, \"marker\": {\"colorbar\": {\"outlinewidth\": 0, \"ticks\": \"\"}}, \"type\": \"scatter3d\"}], \"scattercarpet\": [{\"marker\": {\"colorbar\": {\"outlinewidth\": 0, \"ticks\": \"\"}}, \"type\": \"scattercarpet\"}], \"scattergeo\": [{\"marker\": {\"colorbar\": {\"outlinewidth\": 0, \"ticks\": \"\"}}, \"type\": \"scattergeo\"}], \"scattergl\": [{\"marker\": {\"colorbar\": {\"outlinewidth\": 0, \"ticks\": \"\"}}, \"type\": \"scattergl\"}], \"scattermapbox\": [{\"marker\": {\"colorbar\": {\"outlinewidth\": 0, \"ticks\": \"\"}}, \"type\": \"scattermapbox\"}], \"scatterpolar\": [{\"marker\": {\"colorbar\": {\"outlinewidth\": 0, \"ticks\": \"\"}}, \"type\": \"scatterpolar\"}], \"scatterpolargl\": [{\"marker\": {\"colorbar\": {\"outlinewidth\": 0, \"ticks\": \"\"}}, \"type\": \"scatterpolargl\"}], \"scatterternary\": [{\"marker\": {\"colorbar\": {\"outlinewidth\": 0, \"ticks\": \"\"}}, \"type\": \"scatterternary\"}], \"surface\": [{\"colorbar\": {\"outlinewidth\": 0, \"ticks\": \"\"}, \"colorscale\": [[0.0, \"#0d0887\"], [0.1111111111111111, \"#46039f\"], [0.2222222222222222, \"#7201a8\"], [0.3333333333333333, \"#9c179e\"], [0.4444444444444444, \"#bd3786\"], [0.5555555555555556, \"#d8576b\"], [0.6666666666666666, \"#ed7953\"], [0.7777777777777778, \"#fb9f3a\"], [0.8888888888888888, \"#fdca26\"], [1.0, \"#f0f921\"]], \"type\": \"surface\"}], \"table\": [{\"cells\": {\"fill\": {\"color\": \"#EBF0F8\"}, \"line\": {\"color\": \"white\"}}, \"header\": {\"fill\": {\"color\": \"#C8D4E3\"}, \"line\": {\"color\": \"white\"}}, \"type\": \"table\"}]}, \"layout\": {\"annotationdefaults\": {\"arrowcolor\": \"#2a3f5f\", \"arrowhead\": 0, \"arrowwidth\": 1}, \"coloraxis\": {\"colorbar\": {\"outlinewidth\": 0, \"ticks\": \"\"}}, \"colorscale\": {\"diverging\": [[0, \"#8e0152\"], [0.1, \"#c51b7d\"], [0.2, \"#de77ae\"], [0.3, \"#f1b6da\"], [0.4, \"#fde0ef\"], [0.5, \"#f7f7f7\"], [0.6, \"#e6f5d0\"], [0.7, \"#b8e186\"], [0.8, \"#7fbc41\"], [0.9, \"#4d9221\"], [1, \"#276419\"]], \"sequential\": [[0.0, \"#0d0887\"], [0.1111111111111111, \"#46039f\"], [0.2222222222222222, \"#7201a8\"], [0.3333333333333333, \"#9c179e\"], [0.4444444444444444, \"#bd3786\"], [0.5555555555555556, \"#d8576b\"], [0.6666666666666666, \"#ed7953\"], [0.7777777777777778, \"#fb9f3a\"], [0.8888888888888888, \"#fdca26\"], [1.0, \"#f0f921\"]], \"sequentialminus\": [[0.0, \"#0d0887\"], [0.1111111111111111, \"#46039f\"], [0.2222222222222222, \"#7201a8\"], [0.3333333333333333, \"#9c179e\"], [0.4444444444444444, \"#bd3786\"], [0.5555555555555556, \"#d8576b\"], [0.6666666666666666, \"#ed7953\"], [0.7777777777777778, \"#fb9f3a\"], [0.8888888888888888, \"#fdca26\"], [1.0, \"#f0f921\"]]}, \"colorway\": [\"#636efa\", \"#EF553B\", \"#00cc96\", \"#ab63fa\", \"#FFA15A\", \"#19d3f3\", \"#FF6692\", \"#B6E880\", \"#FF97FF\", \"#FECB52\"], \"font\": {\"color\": \"#2a3f5f\"}, \"geo\": {\"bgcolor\": \"white\", \"lakecolor\": \"white\", \"landcolor\": \"#E5ECF6\", \"showlakes\": true, \"showland\": true, \"subunitcolor\": \"white\"}, \"hoverlabel\": {\"align\": \"left\"}, \"hovermode\": \"closest\", \"mapbox\": {\"style\": \"light\"}, \"paper_bgcolor\": \"white\", \"plot_bgcolor\": \"#E5ECF6\", \"polar\": {\"angularaxis\": {\"gridcolor\": \"white\", \"linecolor\": \"white\", \"ticks\": \"\"}, \"bgcolor\": \"#E5ECF6\", \"radialaxis\": {\"gridcolor\": \"white\", \"linecolor\": \"white\", \"ticks\": \"\"}}, \"scene\": {\"xaxis\": {\"backgroundcolor\": \"#E5ECF6\", \"gridcolor\": \"white\", \"gridwidth\": 2, \"linecolor\": \"white\", \"showbackground\": true, \"ticks\": \"\", \"zerolinecolor\": \"white\"}, \"yaxis\": {\"backgroundcolor\": \"#E5ECF6\", \"gridcolor\": \"white\", \"gridwidth\": 2, \"linecolor\": \"white\", \"showbackground\": true, \"ticks\": \"\", \"zerolinecolor\": \"white\"}, \"zaxis\": {\"backgroundcolor\": \"#E5ECF6\", \"gridcolor\": \"white\", \"gridwidth\": 2, \"linecolor\": \"white\", \"showbackground\": true, \"ticks\": \"\", \"zerolinecolor\": \"white\"}}, \"shapedefaults\": {\"line\": {\"color\": \"#2a3f5f\"}}, \"ternary\": {\"aaxis\": {\"gridcolor\": \"white\", \"linecolor\": \"white\", \"ticks\": \"\"}, \"baxis\": {\"gridcolor\": \"white\", \"linecolor\": \"white\", \"ticks\": \"\"}, \"bgcolor\": \"#E5ECF6\", \"caxis\": {\"gridcolor\": \"white\", \"linecolor\": \"white\", \"ticks\": \"\"}}, \"title\": {\"x\": 0.05}, \"xaxis\": {\"automargin\": true, \"gridcolor\": \"white\", \"linecolor\": \"white\", \"ticks\": \"\", \"title\": {\"standoff\": 15}, \"zerolinecolor\": \"white\", \"zerolinewidth\": 2}, \"yaxis\": {\"automargin\": true, \"gridcolor\": \"white\", \"linecolor\": \"white\", \"ticks\": \"\", \"title\": {\"standoff\": 15}, \"zerolinecolor\": \"white\", \"zerolinewidth\": 2}}}, \"xaxis\": {\"anchor\": \"y\", \"domain\": [0.0, 1.0], \"title\": {\"text\": \"result\"}}, \"yaxis\": {\"anchor\": \"x\", \"domain\": [0.0, 1.0], \"title\": {\"text\": \"year\"}}},\n",
              "                        {\"responsive\": true}\n",
              "                    ).then(function(){\n",
              "                            \n",
              "var gd = document.getElementById('bf002ee7-30a8-4a2e-8fca-e1d8116121db');\n",
              "var x = new MutationObserver(function (mutations, observer) {{\n",
              "        var display = window.getComputedStyle(gd).display;\n",
              "        if (!display || display === 'none') {{\n",
              "            console.log([gd, 'removed!']);\n",
              "            Plotly.purge(gd);\n",
              "            observer.disconnect();\n",
              "        }}\n",
              "}});\n",
              "\n",
              "// Listen for the removal of the full notebook cells\n",
              "var notebookContainer = gd.closest('#notebook-container');\n",
              "if (notebookContainer) {{\n",
              "    x.observe(notebookContainer, {childList: true});\n",
              "}}\n",
              "\n",
              "// Listen for the clearing of the current output cell\n",
              "var outputEl = gd.closest('.output');\n",
              "if (outputEl) {{\n",
              "    x.observe(outputEl, {childList: true});\n",
              "}}\n",
              "\n",
              "                        })\n",
              "                };\n",
              "                \n",
              "            </script>\n",
              "        </div>\n",
              "</body>\n",
              "</html>"
            ]
          },
          "metadata": {
            "tags": []
          }
        }
      ]
    },
    {
      "cell_type": "code",
      "metadata": {
        "id": "Uo3oFa5RYXMI",
        "colab_type": "code",
        "colab": {}
      },
      "source": [
        "india_record['result']=india_record['result'].replace('Lost',0)\n",
        "india_record['result']=india_record['result'].replace('Won',1)"
      ],
      "execution_count": null,
      "outputs": []
    },
    {
      "cell_type": "code",
      "metadata": {
        "id": "hirn3PZlYZn1",
        "colab_type": "code",
        "colab": {
          "base_uri": "https://localhost:8080/",
          "height": 202
        },
        "outputId": "771c052d-7d31-43a3-a744-4a6eba9d2fec"
      },
      "source": [
        "india_record.head()"
      ],
      "execution_count": null,
      "outputs": [
        {
          "output_type": "execute_result",
          "data": {
            "text/html": [
              "<div>\n",
              "<style scoped>\n",
              "    .dataframe tbody tr th:only-of-type {\n",
              "        vertical-align: middle;\n",
              "    }\n",
              "\n",
              "    .dataframe tbody tr th {\n",
              "        vertical-align: top;\n",
              "    }\n",
              "\n",
              "    .dataframe thead th {\n",
              "        text-align: right;\n",
              "    }\n",
              "</style>\n",
              "<table border=\"1\" class=\"dataframe\">\n",
              "  <thead>\n",
              "    <tr style=\"text-align: right;\">\n",
              "      <th></th>\n",
              "      <th>team1</th>\n",
              "      <th>team2</th>\n",
              "      <th>winner</th>\n",
              "      <th>margin</th>\n",
              "      <th>ground</th>\n",
              "      <th>match_date</th>\n",
              "      <th>year</th>\n",
              "      <th>result</th>\n",
              "    </tr>\n",
              "  </thead>\n",
              "  <tbody>\n",
              "    <tr>\n",
              "      <th>0</th>\n",
              "      <td>India</td>\n",
              "      <td>Sri Lanka</td>\n",
              "      <td>Sri Lanka</td>\n",
              "      <td>5 wickets</td>\n",
              "      <td>Dhaka</td>\n",
              "      <td>Jan 5, 2010</td>\n",
              "      <td>2010</td>\n",
              "      <td>0</td>\n",
              "    </tr>\n",
              "    <tr>\n",
              "      <th>1</th>\n",
              "      <td>Bangladesh</td>\n",
              "      <td>India</td>\n",
              "      <td>India</td>\n",
              "      <td>6 wickets</td>\n",
              "      <td>Dhaka</td>\n",
              "      <td>Jan 7, 2010</td>\n",
              "      <td>2010</td>\n",
              "      <td>1</td>\n",
              "    </tr>\n",
              "    <tr>\n",
              "      <th>2</th>\n",
              "      <td>India</td>\n",
              "      <td>Sri Lanka</td>\n",
              "      <td>India</td>\n",
              "      <td>8 wickets</td>\n",
              "      <td>Dhaka</td>\n",
              "      <td>Jan 10, 2010</td>\n",
              "      <td>2010</td>\n",
              "      <td>1</td>\n",
              "    </tr>\n",
              "    <tr>\n",
              "      <th>3</th>\n",
              "      <td>Bangladesh</td>\n",
              "      <td>India</td>\n",
              "      <td>India</td>\n",
              "      <td>6 wickets</td>\n",
              "      <td>Dhaka</td>\n",
              "      <td>Jan 11, 2010</td>\n",
              "      <td>2010</td>\n",
              "      <td>1</td>\n",
              "    </tr>\n",
              "    <tr>\n",
              "      <th>4</th>\n",
              "      <td>India</td>\n",
              "      <td>Sri Lanka</td>\n",
              "      <td>Sri Lanka</td>\n",
              "      <td>4 wickets</td>\n",
              "      <td>Dhaka</td>\n",
              "      <td>Jan 13, 2010</td>\n",
              "      <td>2010</td>\n",
              "      <td>0</td>\n",
              "    </tr>\n",
              "  </tbody>\n",
              "</table>\n",
              "</div>"
            ],
            "text/plain": [
              "        team1      team2     winner  ...    match_date  year result\n",
              "0       India  Sri Lanka  Sri Lanka  ...   Jan 5, 2010  2010      0\n",
              "1  Bangladesh      India      India  ...   Jan 7, 2010  2010      1\n",
              "2       India  Sri Lanka      India  ...  Jan 10, 2010  2010      1\n",
              "3  Bangladesh      India      India  ...  Jan 11, 2010  2010      1\n",
              "4       India  Sri Lanka  Sri Lanka  ...  Jan 13, 2010  2010      0\n",
              "\n",
              "[5 rows x 8 columns]"
            ]
          },
          "metadata": {
            "tags": []
          },
          "execution_count": 14
        }
      ]
    },
    {
      "cell_type": "code",
      "metadata": {
        "id": "rBy9bO8kYhN4",
        "colab_type": "code",
        "colab": {}
      },
      "source": [
        "rec = pd.to_datetime(india_record['match_date'])\n",
        "india_record['match_date']=rec"
      ],
      "execution_count": null,
      "outputs": []
    },
    {
      "cell_type": "code",
      "metadata": {
        "id": "AX52wl6kZXo2",
        "colab_type": "code",
        "colab": {
          "base_uri": "https://localhost:8080/",
          "height": 202
        },
        "outputId": "d94122e2-eebc-465d-b02e-39e986074226"
      },
      "source": [
        "india_record.head()"
      ],
      "execution_count": null,
      "outputs": [
        {
          "output_type": "execute_result",
          "data": {
            "text/html": [
              "<div>\n",
              "<style scoped>\n",
              "    .dataframe tbody tr th:only-of-type {\n",
              "        vertical-align: middle;\n",
              "    }\n",
              "\n",
              "    .dataframe tbody tr th {\n",
              "        vertical-align: top;\n",
              "    }\n",
              "\n",
              "    .dataframe thead th {\n",
              "        text-align: right;\n",
              "    }\n",
              "</style>\n",
              "<table border=\"1\" class=\"dataframe\">\n",
              "  <thead>\n",
              "    <tr style=\"text-align: right;\">\n",
              "      <th></th>\n",
              "      <th>team1</th>\n",
              "      <th>team2</th>\n",
              "      <th>winner</th>\n",
              "      <th>margin</th>\n",
              "      <th>ground</th>\n",
              "      <th>match_date</th>\n",
              "      <th>year</th>\n",
              "      <th>result</th>\n",
              "    </tr>\n",
              "  </thead>\n",
              "  <tbody>\n",
              "    <tr>\n",
              "      <th>0</th>\n",
              "      <td>India</td>\n",
              "      <td>Sri Lanka</td>\n",
              "      <td>Sri Lanka</td>\n",
              "      <td>5 wickets</td>\n",
              "      <td>Dhaka</td>\n",
              "      <td>2010-01-05</td>\n",
              "      <td>2010</td>\n",
              "      <td>0</td>\n",
              "    </tr>\n",
              "    <tr>\n",
              "      <th>1</th>\n",
              "      <td>Bangladesh</td>\n",
              "      <td>India</td>\n",
              "      <td>India</td>\n",
              "      <td>6 wickets</td>\n",
              "      <td>Dhaka</td>\n",
              "      <td>2010-01-07</td>\n",
              "      <td>2010</td>\n",
              "      <td>1</td>\n",
              "    </tr>\n",
              "    <tr>\n",
              "      <th>2</th>\n",
              "      <td>India</td>\n",
              "      <td>Sri Lanka</td>\n",
              "      <td>India</td>\n",
              "      <td>8 wickets</td>\n",
              "      <td>Dhaka</td>\n",
              "      <td>2010-01-10</td>\n",
              "      <td>2010</td>\n",
              "      <td>1</td>\n",
              "    </tr>\n",
              "    <tr>\n",
              "      <th>3</th>\n",
              "      <td>Bangladesh</td>\n",
              "      <td>India</td>\n",
              "      <td>India</td>\n",
              "      <td>6 wickets</td>\n",
              "      <td>Dhaka</td>\n",
              "      <td>2010-01-11</td>\n",
              "      <td>2010</td>\n",
              "      <td>1</td>\n",
              "    </tr>\n",
              "    <tr>\n",
              "      <th>4</th>\n",
              "      <td>India</td>\n",
              "      <td>Sri Lanka</td>\n",
              "      <td>Sri Lanka</td>\n",
              "      <td>4 wickets</td>\n",
              "      <td>Dhaka</td>\n",
              "      <td>2010-01-13</td>\n",
              "      <td>2010</td>\n",
              "      <td>0</td>\n",
              "    </tr>\n",
              "  </tbody>\n",
              "</table>\n",
              "</div>"
            ],
            "text/plain": [
              "        team1      team2     winner     margin ground match_date  year  result\n",
              "0       India  Sri Lanka  Sri Lanka  5 wickets  Dhaka 2010-01-05  2010       0\n",
              "1  Bangladesh      India      India  6 wickets  Dhaka 2010-01-07  2010       1\n",
              "2       India  Sri Lanka      India  8 wickets  Dhaka 2010-01-10  2010       1\n",
              "3  Bangladesh      India      India  6 wickets  Dhaka 2010-01-11  2010       1\n",
              "4       India  Sri Lanka  Sri Lanka  4 wickets  Dhaka 2010-01-13  2010       0"
            ]
          },
          "metadata": {
            "tags": []
          },
          "execution_count": 16
        }
      ]
    },
    {
      "cell_type": "code",
      "metadata": {
        "id": "Gl6WUqr5Y8Qb",
        "colab_type": "code",
        "colab": {
          "base_uri": "https://localhost:8080/",
          "height": 277
        },
        "outputId": "83dbc583-bf00-4fef-dd0c-f829a9612266"
      },
      "source": [
        "india_record.info()"
      ],
      "execution_count": null,
      "outputs": [
        {
          "output_type": "stream",
          "text": [
            "<class 'pandas.core.frame.DataFrame'>\n",
            "RangeIndex: 249 entries, 0 to 248\n",
            "Data columns (total 8 columns):\n",
            " #   Column      Non-Null Count  Dtype         \n",
            "---  ------      --------------  -----         \n",
            " 0   team1       249 non-null    object        \n",
            " 1   team2       249 non-null    object        \n",
            " 2   winner      249 non-null    object        \n",
            " 3   margin      236 non-null    object        \n",
            " 4   ground      249 non-null    object        \n",
            " 5   match_date  249 non-null    datetime64[ns]\n",
            " 6   year        249 non-null    int64         \n",
            " 7   result      249 non-null    int64         \n",
            "dtypes: datetime64[ns](1), int64(2), object(5)\n",
            "memory usage: 15.7+ KB\n"
          ],
          "name": "stdout"
        }
      ]
    },
    {
      "cell_type": "markdown",
      "metadata": {
        "id": "8Q-ZDJ9HZIe_",
        "colab_type": "text"
      },
      "source": [
        "#  <font color='green'>Statistical Modelling</font>"
      ]
    },
    {
      "cell_type": "code",
      "metadata": {
        "id": "IaqtqOrlZM5k",
        "colab_type": "code",
        "colab": {}
      },
      "source": [
        "X1 = india_record.drop(['team1','team2','winner','margin','ground','match_date','result'],axis=1)\n",
        "Y1 = india_record['result'].values"
      ],
      "execution_count": null,
      "outputs": []
    },
    {
      "cell_type": "markdown",
      "metadata": {
        "id": "JB_nkpNgZ4QQ",
        "colab_type": "text"
      },
      "source": [
        "#  <font color='blue'>Logistic Regression</font>"
      ]
    },
    {
      "cell_type": "code",
      "metadata": {
        "id": "fB7Qv5NiZnB_",
        "colab_type": "code",
        "colab": {
          "base_uri": "https://localhost:8080/",
          "height": 52
        },
        "outputId": "bff27edb-f5fa-4969-88dd-3565f6abb098"
      },
      "source": [
        "#Logistic Regression Model\n",
        "X1_train,X1_test,y1_train,y1_test = train_test_split(X1,Y1, test_size=0.1, random_state=42)\n",
        "logreg = LogisticRegression(solver='liblinear',C=0.5,random_state=42,max_iter=500,class_weight='balanced')\n",
        "\n",
        "logreg.fit(X1_train,y1_train)\n",
        "#predict\n",
        "y1_predict = logreg.predict(X1_test)\n",
        "training_accuracy1 = logreg.score(X1_train,y1_train)\n",
        "print('training_accuracy:',training_accuracy1)\n",
        "\n",
        "testing_accuracy1 = logreg.score(X1_test,y1_test)\n",
        "print('testing_accuracy:',testing_accuracy1)"
      ],
      "execution_count": null,
      "outputs": [
        {
          "output_type": "stream",
          "text": [
            "training_accuracy: 0.65625\n",
            "testing_accuracy: 0.64\n"
          ],
          "name": "stdout"
        }
      ]
    },
    {
      "cell_type": "markdown",
      "metadata": {
        "id": "NvF7kTWQaOdO",
        "colab_type": "text"
      },
      "source": [
        "#  <font color='blue'>Decision Tree</font>"
      ]
    },
    {
      "cell_type": "code",
      "metadata": {
        "id": "PfaYAKEMaURi",
        "colab_type": "code",
        "colab": {
          "base_uri": "https://localhost:8080/",
          "height": 52
        },
        "outputId": "e5a7fd90-ca3e-4fb7-8d4b-5e31cf40b4a7"
      },
      "source": [
        "X1_train,X1_test,y1_train,y1_test = train_test_split(X1,Y1, test_size=0.2, random_state=500000)\n",
        "dt_model = DecisionTreeClassifier(criterion='entropy',random_state=42,max_depth=30,\n",
        "                                 max_features='auto',min_samples_leaf=5,splitter='best',class_weight='balanced')\n",
        "dt_model.fit(X1_train,y1_train)\n",
        "y_pred_dt = dt_model.predict(X1_test)\n",
        "print(\"Trainig accuracy\",dt_model.score(X1_train,y1_train))\n",
        "print(\"Testing accuracy\",dt_model.score(X1_test, y1_test))"
      ],
      "execution_count": null,
      "outputs": [
        {
          "output_type": "stream",
          "text": [
            "Trainig accuracy 0.5829145728643216\n",
            "Testing accuracy 0.52\n"
          ],
          "name": "stdout"
        }
      ]
    },
    {
      "cell_type": "markdown",
      "metadata": {
        "id": "9jnn8kwDafYm",
        "colab_type": "text"
      },
      "source": [
        "#  <font color='blue'>Ada Boost</font>"
      ]
    },
    {
      "cell_type": "code",
      "metadata": {
        "id": "6W1BDnr-aj9C",
        "colab_type": "code",
        "colab": {
          "base_uri": "https://localhost:8080/",
          "height": 52
        },
        "outputId": "75175da2-c270-464e-a233-fe0b6951638e"
      },
      "source": [
        "X1_train,X1_test,y1_train,y1_test = train_test_split(X1,Y1, test_size=0.1, random_state=44)\n",
        "AdaBoost_model = AdaBoostClassifier()\n",
        "AdaBoost_model.fit(X1_train,y1_train)\n",
        "\n",
        "y_pred_Ada = AdaBoost_model.predict(X1_test)\n",
        "\n",
        "print(\"Trainig accuracy\",AdaBoost_model.score(X1_train,y1_train))  \n",
        "print(\"Testing accuracy\",AdaBoost_model.score(X1_test, y1_test))"
      ],
      "execution_count": null,
      "outputs": [
        {
          "output_type": "stream",
          "text": [
            "Trainig accuracy 0.65625\n",
            "Testing accuracy 0.64\n"
          ],
          "name": "stdout"
        }
      ]
    },
    {
      "cell_type": "markdown",
      "metadata": {
        "colab_type": "text",
        "id": "Xt-HS-k4arue"
      },
      "source": [
        "#  <font color='blue'>Gradient Boost</font>"
      ]
    },
    {
      "cell_type": "code",
      "metadata": {
        "id": "EIiRL3SmavzS",
        "colab_type": "code",
        "colab": {
          "base_uri": "https://localhost:8080/",
          "height": 52
        },
        "outputId": "fc1173a5-0bac-48c7-822b-3bbc930420af"
      },
      "source": [
        "X1_train,X1_test,y1_train,y1_test = train_test_split(X1,Y1, test_size=0.1, random_state=47)\n",
        "g_boost_model = GradientBoostingClassifier(learning_rate=0.07,n_estimators=70,subsample=0.2,max_depth=12,random_state=42)\n",
        "g_boost_model.fit(X1_train,y1_train)\n",
        "y_pred_g_boost = g_boost_model.predict(X1_test)\n",
        "\n",
        "print(\"Trainig accuracy\",g_boost_model.score(X1_train,y1_train))  \n",
        "print(\"Testing accuracy\",g_boost_model.score(X1_test, y1_test))"
      ],
      "execution_count": null,
      "outputs": [
        {
          "output_type": "stream",
          "text": [
            "Trainig accuracy 0.6607142857142857\n",
            "Testing accuracy 0.6\n"
          ],
          "name": "stdout"
        }
      ]
    },
    {
      "cell_type": "markdown",
      "metadata": {
        "colab_type": "text",
        "id": "XVQNoFUxa5ZB"
      },
      "source": [
        "#  <font color='blue'>XG Boost</font>"
      ]
    },
    {
      "cell_type": "code",
      "metadata": {
        "id": "u0YOqYsxa9-m",
        "colab_type": "code",
        "colab": {
          "base_uri": "https://localhost:8080/",
          "height": 52
        },
        "outputId": "e468dda9-9bc2-4156-f3bd-60ad1e903ebc"
      },
      "source": [
        "X1_train,X1_test,y1_train,y1_test = train_test_split(X1,Y1, test_size=0.1, random_state=42)\n",
        "xg_boost_model = XGBClassifier(class_weight='balanced')\n",
        "xg_boost_model.fit(X1_train,y1_train)\n",
        "y_pred_xg_boost = g_boost_model.predict(X1_test)\n",
        "print(\"Trainig accuracy\",xg_boost_model.score(X1_train,y1_train))  \n",
        "print(\"Testing accuracy\",xg_boost_model.score(X1_test, y1_test))"
      ],
      "execution_count": null,
      "outputs": [
        {
          "output_type": "stream",
          "text": [
            "Trainig accuracy 0.65625\n",
            "Testing accuracy 0.64\n"
          ],
          "name": "stdout"
        }
      ]
    },
    {
      "cell_type": "markdown",
      "metadata": {
        "colab_type": "text",
        "id": "YHOgItJybGGk"
      },
      "source": [
        "#  <font color='blue'>Random Forest</font>"
      ]
    },
    {
      "cell_type": "code",
      "metadata": {
        "id": "T202IiQ3bLwS",
        "colab_type": "code",
        "colab": {
          "base_uri": "https://localhost:8080/",
          "height": 52
        },
        "outputId": "42064e49-4725-482e-ab22-dd5e1f297c15"
      },
      "source": [
        "X1_train,X1_test,y1_train,y1_test = train_test_split(X1,Y1, test_size=0.2, random_state=42)\n",
        "rf_model = RandomForestClassifier(class_weight='balanced')\n",
        "rf_model.fit(X1_train,y1_train)\n",
        "y_pred_rf = dt_model.predict(X1_test)\n",
        "print(\"Trainig accuracy\",rf_model.score(X1_train,y1_train))  \n",
        "print(\"Testing accuracy\",rf_model.score(X1_test, y1_test))"
      ],
      "execution_count": null,
      "outputs": [
        {
          "output_type": "stream",
          "text": [
            "Trainig accuracy 0.5628140703517588\n",
            "Testing accuracy 0.54\n"
          ],
          "name": "stdout"
        }
      ]
    },
    {
      "cell_type": "markdown",
      "metadata": {
        "colab_type": "text",
        "id": "vJJrtR8YbUjU"
      },
      "source": [
        "#  <font color='blue'>Bagging</font>"
      ]
    },
    {
      "cell_type": "code",
      "metadata": {
        "id": "pE0_dUTgbZPC",
        "colab_type": "code",
        "colab": {
          "base_uri": "https://localhost:8080/",
          "height": 52
        },
        "outputId": "28969533-a67a-40be-84b7-66a684ab4a73"
      },
      "source": [
        "X1_train,X1_test,y1_train,y1_test = train_test_split(X1,Y1, test_size=0.1, random_state=42)\n",
        "Bag_model = BaggingClassifier()\n",
        "Bag_model.fit(X1_train,y1_train)\n",
        "y_pred_bag = Bag_model.predict(X1_test)\n",
        "print(\"Trainig accuracy\",Bag_model.score(X1_train,y1_train))  \n",
        "print(\"Testing accuracy\",Bag_model.score(X1_test, y1_test))"
      ],
      "execution_count": null,
      "outputs": [
        {
          "output_type": "stream",
          "text": [
            "Trainig accuracy 0.65625\n",
            "Testing accuracy 0.64\n"
          ],
          "name": "stdout"
        }
      ]
    },
    {
      "cell_type": "markdown",
      "metadata": {
        "id": "WOav91rrbsTo",
        "colab_type": "text"
      },
      "source": [
        "#  <font color='red'>Balancing Techniques</font>"
      ]
    },
    {
      "cell_type": "code",
      "metadata": {
        "id": "7UNie5snb3w6",
        "colab_type": "code",
        "colab": {
          "base_uri": "https://localhost:8080/",
          "height": 277
        },
        "outputId": "354e8fee-276f-4096-f307-34da5927399d"
      },
      "source": [
        "## Getting ready for applying different balancing techniques\n",
        "#Undersampled Data\n",
        "rus = RandomUnderSampler(random_state=42)\n",
        "X_under, y_under = rus.fit_resample(X1, Y1)\n",
        "print('Resampled dataset shape %s' % Counter(y_under))\n",
        "\n",
        "#Oversampled Data\n",
        "rus = RandomOverSampler(random_state=42)\n",
        "X_over, y_over = rus.fit_resample(X1, Y1)\n",
        "print('Resampled dataset shape %s' % Counter(y_over))\n",
        "\n",
        "#SMOTE Data\n",
        "rus = SMOTE(random_state=42)\n",
        "X_smote, y_smote = rus.fit_resample(X1, Y1)\n",
        "print('Resampled dataset shape %s' % Counter(y_smote))"
      ],
      "execution_count": null,
      "outputs": [
        {
          "output_type": "stream",
          "text": [
            "Resampled dataset shape Counter({0: 86, 1: 86})\n",
            "Resampled dataset shape Counter({0: 163, 1: 163})\n",
            "Resampled dataset shape Counter({0: 163, 1: 163})\n"
          ],
          "name": "stdout"
        },
        {
          "output_type": "stream",
          "text": [
            "/usr/local/lib/python3.6/dist-packages/sklearn/utils/deprecation.py:87: FutureWarning:\n",
            "\n",
            "Function safe_indexing is deprecated; safe_indexing is deprecated in version 0.22 and will be removed in version 0.24.\n",
            "\n",
            "/usr/local/lib/python3.6/dist-packages/sklearn/utils/deprecation.py:87: FutureWarning:\n",
            "\n",
            "Function safe_indexing is deprecated; safe_indexing is deprecated in version 0.22 and will be removed in version 0.24.\n",
            "\n",
            "/usr/local/lib/python3.6/dist-packages/sklearn/utils/deprecation.py:87: FutureWarning:\n",
            "\n",
            "Function safe_indexing is deprecated; safe_indexing is deprecated in version 0.22 and will be removed in version 0.24.\n",
            "\n"
          ],
          "name": "stderr"
        }
      ]
    },
    {
      "cell_type": "markdown",
      "metadata": {
        "id": "LCBy3zzBcF-j",
        "colab_type": "text"
      },
      "source": [
        "#  <font color='blue'>Logistic Regression - Undersample</font>"
      ]
    },
    {
      "cell_type": "code",
      "metadata": {
        "id": "F2qO6LuJcLFR",
        "colab_type": "code",
        "colab": {
          "base_uri": "https://localhost:8080/",
          "height": 329
        },
        "outputId": "51409603-6129-4194-e31b-9d95618896d8"
      },
      "source": [
        "X1_train, X1_test, y1_train, y1_test = train_test_split(X_under,y_under, test_size = 0.20, random_state=42 )\n",
        "#Logistic Regression Model\n",
        "X1_train,X1_test,y1_train,y1_test = train_test_split(X1,Y1, test_size=0.3, random_state=42)\n",
        "logreg = LogisticRegression(solver='newton-cg',C=0.5,random_state=42,max_iter=500)\n",
        "\n",
        "logreg.fit(X1_train,y1_train)\n",
        "#predict\n",
        "y_predict = logreg.predict(X1_test)\n",
        "training_accuracy = logreg.score(X1_train,y1_train)\n",
        "print('training_accuracy:',training_accuracy)\n",
        "\n",
        "testing_accuracy = logreg.score(X1_test,y1_test)\n",
        "print('testing_accuracy:',testing_accuracy)"
      ],
      "execution_count": null,
      "outputs": [
        {
          "output_type": "stream",
          "text": [
            "training_accuracy: 0.6839080459770115\n",
            "testing_accuracy: 0.5866666666666667\n"
          ],
          "name": "stdout"
        },
        {
          "output_type": "stream",
          "text": [
            "/usr/local/lib/python3.6/dist-packages/scipy/optimize/linesearch.py:466: LineSearchWarning:\n",
            "\n",
            "The line search algorithm did not converge\n",
            "\n",
            "/usr/local/lib/python3.6/dist-packages/scipy/optimize/linesearch.py:314: LineSearchWarning:\n",
            "\n",
            "The line search algorithm did not converge\n",
            "\n",
            "/usr/local/lib/python3.6/dist-packages/scipy/optimize/linesearch.py:466: LineSearchWarning:\n",
            "\n",
            "The line search algorithm did not converge\n",
            "\n",
            "/usr/local/lib/python3.6/dist-packages/scipy/optimize/linesearch.py:314: LineSearchWarning:\n",
            "\n",
            "The line search algorithm did not converge\n",
            "\n"
          ],
          "name": "stderr"
        }
      ]
    },
    {
      "cell_type": "markdown",
      "metadata": {
        "colab_type": "text",
        "id": "Kaw2UclDcqFi"
      },
      "source": [
        "#  <font color='blue'>Logistic Regression - Oversample</font>"
      ]
    },
    {
      "cell_type": "code",
      "metadata": {
        "id": "iscyB02PctYJ",
        "colab_type": "code",
        "colab": {
          "base_uri": "https://localhost:8080/",
          "height": 52
        },
        "outputId": "e09772cd-9a50-45f2-9006-6683ac5a1d59"
      },
      "source": [
        "X1_train, X1_test, y1_train, y1_test = train_test_split(X_over,y_over, test_size = 0.20, random_state=42 )\n",
        "#Logistic Regression Model\n",
        "X1_train,X1_test,y1_train,y1_test = train_test_split(X1,Y1, test_size=0.3, random_state=42)\n",
        "logreg = LogisticRegression(random_state=42, solver=\"lbfgs\",penalty='l2',C=0.5,tol=0.001,max_iter=1000)\n",
        "\n",
        "logreg.fit(X1_train,y1_train)\n",
        "#predict\n",
        "y_predict = logreg.predict(X1_test)\n",
        "training_accuracy = logreg.score(X1_train,y1_train)\n",
        "print('training_accuracy:',training_accuracy)\n",
        "\n",
        "testing_accuracy = logreg.score(X1_test,y1_test)\n",
        "print('testing_accuracy:',testing_accuracy)"
      ],
      "execution_count": null,
      "outputs": [
        {
          "output_type": "stream",
          "text": [
            "training_accuracy: 0.6839080459770115\n",
            "testing_accuracy: 0.5866666666666667\n"
          ],
          "name": "stdout"
        }
      ]
    },
    {
      "cell_type": "markdown",
      "metadata": {
        "colab_type": "text",
        "id": "dqt84MEPdGjP"
      },
      "source": [
        "#  <font color='blue'>Logistic Regression - SMOTE</font>"
      ]
    },
    {
      "cell_type": "code",
      "metadata": {
        "id": "R-9xvSn2dJCd",
        "colab_type": "code",
        "colab": {
          "base_uri": "https://localhost:8080/",
          "height": 52
        },
        "outputId": "3216d106-5e94-4e89-ca50-e2fa0d257984"
      },
      "source": [
        "X1_train, X1_test, y1_train, y1_test = train_test_split(X_smote,y_smote, test_size = 0.20, random_state=42 )\n",
        "#Logistic Regression Model\n",
        "X1_train,X1_test,y1_train,y1_test = train_test_split(X1,Y1, test_size=0.3, random_state=42)\n",
        "logreg = LogisticRegression(random_state=42, solver=\"lbfgs\",penalty='l2',C=0.5,tol=0.001,max_iter=1000)\n",
        "\n",
        "logreg.fit(X1_train,y1_train)\n",
        "#predict\n",
        "y_predict = logreg.predict(X1_test)\n",
        "training_accuracy = logreg.score(X1_train,y1_train)\n",
        "print('training_accuracy:',training_accuracy)\n",
        "\n",
        "testing_accuracy = logreg.score(X1_test,y1_test)\n",
        "print('testing_accuracy:',testing_accuracy)"
      ],
      "execution_count": null,
      "outputs": [
        {
          "output_type": "stream",
          "text": [
            "training_accuracy: 0.6839080459770115\n",
            "testing_accuracy: 0.5866666666666667\n"
          ],
          "name": "stdout"
        }
      ]
    },
    {
      "cell_type": "markdown",
      "metadata": {
        "id": "2wKCXvmsfr4c",
        "colab_type": "text"
      },
      "source": [
        "#  <font color='red'>Balancing techniques does not improves the model, hence not applying these techniques</font>"
      ]
    },
    {
      "cell_type": "markdown",
      "metadata": {
        "id": "x8ReWtTIhQMZ",
        "colab_type": "text"
      },
      "source": [
        "#  <font color='Gold'>End of project</font>"
      ]
    }
  ]
}